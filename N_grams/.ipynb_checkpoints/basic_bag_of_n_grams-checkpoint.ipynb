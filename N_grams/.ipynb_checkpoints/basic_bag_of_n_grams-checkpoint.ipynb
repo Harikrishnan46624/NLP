{
 "cells": [
  {
   "cell_type": "code",
   "execution_count": 1,
   "id": "8c8143f0-1f2f-4c68-966c-a11023d4d432",
   "metadata": {},
   "outputs": [
    {
     "data": {
      "text/plain": [
       "{'thor': 5, 'hathodawala': 1, 'is': 2, 'looking': 4, 'for': 0, 'job': 3}"
      ]
     },
     "execution_count": 1,
     "metadata": {},
     "output_type": "execute_result"
    }
   ],
   "source": [
    "from sklearn.feature_extraction.text import CountVectorizer\n",
    "\n",
    "v = CountVectorizer()\n",
    "v.fit([\"Thor Hathodawala is looking for a job\"])\n",
    "v.vocabulary_"
   ]
  },
  {
   "cell_type": "code",
   "execution_count": 2,
   "id": "e8203cab-33a4-49ae-a062-67006ac6a043",
   "metadata": {},
   "outputs": [
    {
     "data": {
      "text/plain": [
       "{'thor hathodawala': 4,\n",
       " 'hathodawala is': 1,\n",
       " 'is looking': 2,\n",
       " 'looking for': 3,\n",
       " 'for job': 0}"
      ]
     },
     "execution_count": 2,
     "metadata": {},
     "output_type": "execute_result"
    }
   ],
   "source": [
    "v = CountVectorizer(ngram_range=(2,2))\n",
    "v.fit([\"Thor Hathodawala is looking for a job\"])\n",
    "v.vocabulary_"
   ]
  },
  {
   "cell_type": "code",
   "execution_count": 3,
   "id": "55e94317-eccc-4f2f-b757-f5ad8da1d18a",
   "metadata": {},
   "outputs": [
    {
     "data": {
      "text/plain": [
       "{'thor': 12,\n",
       " 'hathodawala': 2,\n",
       " 'is': 5,\n",
       " 'looking': 9,\n",
       " 'for': 0,\n",
       " 'job': 8,\n",
       " 'thor hathodawala': 13,\n",
       " 'hathodawala is': 3,\n",
       " 'is looking': 6,\n",
       " 'looking for': 10,\n",
       " 'for job': 1,\n",
       " 'thor hathodawala is': 14,\n",
       " 'hathodawala is looking': 4,\n",
       " 'is looking for': 7,\n",
       " 'looking for job': 11}"
      ]
     },
     "execution_count": 3,
     "metadata": {},
     "output_type": "execute_result"
    }
   ],
   "source": [
    "v = CountVectorizer(ngram_range=(1,3))\n",
    "v.fit([\"Thor Hathodawala is looking for a job\"])\n",
    "v.vocabulary_"
   ]
  },
  {
   "cell_type": "markdown",
   "id": "4e402728-e45b-4cbd-bed6-6e9a18c26252",
   "metadata": {},
   "source": [
    "We will not take a simple collection of text documents, preprocess them to remove stop words, lemmatize etc and then generate bag of 1 grams and 2 grams from it\n",
    "\n"
   ]
  },
  {
   "cell_type": "code",
   "execution_count": 4,
   "id": "328029eb-16fc-4147-9933-5f57c1747825",
   "metadata": {},
   "outputs": [],
   "source": [
    "corpus = [\n",
    "    \"Thor ate pizza\",\n",
    "    \"Loki is tall\",\n",
    "    \"Loki is eating pizza\"\n",
    "]"
   ]
  },
  {
   "cell_type": "code",
   "execution_count": 5,
   "id": "1685d80e-bda2-4571-896c-563af0b4e49c",
   "metadata": {},
   "outputs": [],
   "source": [
    "import spacy\n",
    "# load english language model and create nlp object from it\n",
    "\n",
    "nlp = spacy.load(\"en_core_web_sm\")\n",
    "\n",
    "def preprocess(text):\n",
    "    # remove stop words and lemmatize the text\n",
    "    doc = nlp(text)\n",
    "\n",
    "    filtered_token = []\n",
    "    for token in doc:\n",
    "        if token.is_stop or token.is_punct:\n",
    "            continue\n",
    "        filtered_token.append(token.lemma_)\n",
    "\n",
    "    return \" \".join(filtered_token)"
   ]
  },
  {
   "cell_type": "code",
   "execution_count": 6,
   "id": "be930539-66f8-40f4-b4b6-262403579e4b",
   "metadata": {},
   "outputs": [
    {
     "data": {
      "text/plain": [
       "'thor eat pizza'"
      ]
     },
     "execution_count": 6,
     "metadata": {},
     "output_type": "execute_result"
    }
   ],
   "source": [
    "preprocess(\"Thor ate pizza\")"
   ]
  },
  {
   "cell_type": "code",
   "execution_count": 7,
   "id": "fa55b5e1-a733-4821-abcc-8bc1151f0345",
   "metadata": {},
   "outputs": [
    {
     "data": {
      "text/plain": [
       "'Loki eat pizza'"
      ]
     },
     "execution_count": 7,
     "metadata": {},
     "output_type": "execute_result"
    }
   ],
   "source": [
    "preprocess(\"Loki is eating pizza\")"
   ]
  },
  {
   "cell_type": "code",
   "execution_count": 8,
   "id": "1251ddf1-5162-411b-b89e-630f72058320",
   "metadata": {},
   "outputs": [
    {
     "data": {
      "text/plain": [
       "['thor eat pizza', 'Loki tall', 'Loki eat pizza']"
      ]
     },
     "execution_count": 8,
     "metadata": {},
     "output_type": "execute_result"
    }
   ],
   "source": [
    "corpus_preprocessed = [\n",
    "    preprocess(text) for text in corpus\n",
    "]\n",
    "corpus_preprocessed"
   ]
  },
  {
   "cell_type": "code",
   "execution_count": 10,
   "id": "74f88157-ebe8-42a6-9416-12431071d24e",
   "metadata": {},
   "outputs": [
    {
     "data": {
      "text/plain": [
       "{'thor': 7,\n",
       " 'eat': 0,\n",
       " 'pizza': 5,\n",
       " 'thor eat': 8,\n",
       " 'eat pizza': 1,\n",
       " 'loki': 2,\n",
       " 'tall': 6,\n",
       " 'loki tall': 4,\n",
       " 'loki eat': 3}"
      ]
     },
     "execution_count": 10,
     "metadata": {},
     "output_type": "execute_result"
    }
   ],
   "source": [
    "v = CountVectorizer(ngram_range=(1,2))\n",
    "v.fit(corpus_preprocessed)\n",
    "v.vocabulary_"
   ]
  },
  {
   "cell_type": "markdown",
   "id": "742c3ee7-7bcf-4bcc-a1e1-b9d3e7fe7371",
   "metadata": {},
   "source": [
    "Now generate bag of n gram vector for few sample documents\n",
    "\n"
   ]
  },
  {
   "cell_type": "code",
   "execution_count": 11,
   "id": "93d2eeaf-9583-45a4-ad36-d649bfd4dd3d",
   "metadata": {},
   "outputs": [
    {
     "data": {
      "text/plain": [
       "array([[1, 1, 0, 0, 0, 1, 0, 1, 1]], dtype=int64)"
      ]
     },
     "execution_count": 11,
     "metadata": {},
     "output_type": "execute_result"
    }
   ],
   "source": [
    "v.transform([\"Thor eat pizza\"]).toarray()\n"
   ]
  },
  {
   "cell_type": "markdown",
   "id": "8f1b8f48-4110-4899-87b4-f46fc67defc0",
   "metadata": {},
   "source": [
    "Let's take a document that has out of vocabulary (OOV) term and see how bag of ngram generates vector out of it"
   ]
  },
  {
   "cell_type": "markdown",
   "id": "929dde78-1d34-4265-b2c9-b566ff9e174a",
   "metadata": {},
   "source": [
    "v.transform([\"Hulk eat pizza\"]).toarray()\n"
   ]
  },
  {
   "cell_type": "markdown",
   "id": "2ae8dc42-2aff-4b16-a56d-b0a9dea2fdcb",
   "metadata": {},
   "source": [
    "<img src=\"thor_hulk.jpg\"/>"
   ]
  },
  {
   "cell_type": "code",
   "execution_count": null,
   "id": "7fbb2f02-763b-4238-894a-d18857d1face",
   "metadata": {},
   "outputs": [],
   "source": []
  }
 ],
 "metadata": {
  "kernelspec": {
   "display_name": "Python 3 (ipykernel)",
   "language": "python",
   "name": "python3"
  },
  "language_info": {
   "codemirror_mode": {
    "name": "ipython",
    "version": 3
   },
   "file_extension": ".py",
   "mimetype": "text/x-python",
   "name": "python",
   "nbconvert_exporter": "python",
   "pygments_lexer": "ipython3",
   "version": "3.11.6"
  }
 },
 "nbformat": 4,
 "nbformat_minor": 5
}
