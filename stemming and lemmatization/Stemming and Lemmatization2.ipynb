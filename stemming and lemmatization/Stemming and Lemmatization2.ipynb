{
 "cells": [
  {
   "cell_type": "code",
   "execution_count": 1,
   "id": "9795db22-7fea-4727-a9c4-42ff0fcc55fd",
   "metadata": {},
   "outputs": [],
   "source": [
    "import nltk\n",
    "from nltk.stem import PorterStemmer\n",
    "stemmer = PorterStemmer()\n",
    "\n",
    "\n",
    "import spacy\n",
    "nlp = spacy.load(\"en_core_web_sm\")"
   ]
  },
  {
   "cell_type": "markdown",
   "id": "e214933c-3a02-4546-8147-4fab12aaa1db",
   "metadata": {},
   "source": [
    "Exercise1:\n",
    "\n",
    "1. Convert these list of words into base form using Stemming and Lemmatization and observe the transformations                                               \n",
    "2 .Write a short note on the words that have different base words using stemming and Lemmatization"
   ]
  },
  {
   "cell_type": "markdown",
   "id": "ea55e060-5cd0-4e50-88f0-e33560099ffa",
   "metadata": {},
   "source": [
    "using stemming in nltk"
   ]
  },
  {
   "cell_type": "code",
   "execution_count": 2,
   "id": "1c03ae93-5749-414a-bae2-dcd288cec039",
   "metadata": {},
   "outputs": [
    {
     "name": "stdout",
     "output_type": "stream",
     "text": [
      "running  |  run\n",
      "painting  |  paint\n",
      "walking  |  walk\n",
      "dressing  |  dress\n",
      "likely  |  like\n",
      "children  |  children\n",
      "whom  |  whom\n",
      "good  |  good\n",
      "ate  |  ate\n",
      "fishing  |  fish\n"
     ]
    }
   ],
   "source": [
    "lst_words = ['running', 'painting', 'walking', 'dressing', 'likely', 'children', 'whom', 'good', 'ate', 'fishing']\n",
    "\n",
    "for word in lst_words:\n",
    "    print(word, \" | \", stemmer.stem(word))"
   ]
  },
  {
   "cell_type": "markdown",
   "id": "007ea2ca-7193-4820-a3c7-8d97aa8d5783",
   "metadata": {},
   "source": [
    "lemmatization in spacy"
   ]
  },
  {
   "cell_type": "code",
   "execution_count": 3,
   "id": "7d619160-2c22-44d1-b820-e04f64f05164",
   "metadata": {},
   "outputs": [
    {
     "name": "stdout",
     "output_type": "stream",
     "text": [
      "running  |  run\n",
      "painting  |  paint\n",
      "walking  |  walk\n",
      "dressing  |  dress\n",
      "likely  |  likely\n",
      "children  |  child\n",
      "whom  |  whom\n",
      "good  |  good\n",
      "ate  |  eat\n",
      "fishing  |  fishing\n"
     ]
    }
   ],
   "source": [
    "doc = nlp(\"running painting walking dressing likely children whom good ate fishing\")\n",
    "\n",
    "for token in doc:\n",
    "    print(token, \" | \", token.lemma_)"
   ]
  },
  {
   "cell_type": "raw",
   "id": "559e378e-ceb8-41ee-b5d2-e815098d3eaa",
   "metadata": {},
   "source": [
    "Observations\n",
    "\n",
    "Words that are different in stemming and lemmatization are:\n",
    "\n",
    "painting                                                                     \n",
    "likely\n",
    "children\n",
    "ate\n",
    "fishing\n",
    "As Stemming achieves the base word by removing the suffixes [ing, ly etc], so it successfully transform the words like 'painting', 'likely', 'fishing' and lemmatization fails for some words ending with suffixes here.\n",
    "\n",
    "As Lemmatization uses the dictionary meanings while converting to the base form, so words like 'children' and 'ate' are successfully transformed and stemming fails here."
   ]
  },
  {
   "cell_type": "markdown",
   "id": "9786c491-76d4-4b0f-b319-12321faecc8e",
   "metadata": {},
   "source": [
    "convert the given text into it's base form using both stemming and lemmatization"
   ]
  },
  {
   "cell_type": "code",
   "execution_count": 5,
   "id": "bec67d02-5fe6-43ad-9c9c-c20498b56daf",
   "metadata": {},
   "outputs": [],
   "source": [
    "text = \"\"\"Latha is very multi talented girl.She is good at many skills like dancing, running, singing, playing.She also likes eating Pav Bhagi. she has a \n",
    "habit of fishing and swimming too.Besides all this, she is a wonderful at cooking too.\n",
    "\"\"\""
   ]
  },
  {
   "cell_type": "markdown",
   "id": "c432dd45-ed3a-4537-8d91-55c6f7cfd088",
   "metadata": {},
   "source": [
    "using stemming in nltk"
   ]
  },
  {
   "cell_type": "code",
   "execution_count": 6,
   "id": "c2c4071a-c97e-446b-8fd9-ac2b85311a24",
   "metadata": {},
   "outputs": [
    {
     "name": "stdout",
     "output_type": "stream",
     "text": [
      "latha is veri multi talent girl.sh is good at mani skill like danc , run , sing , playing.sh also like eat pav bhagi . she ha a habit of fish and swim too.besid all thi , she is a wonder at cook too .\n"
     ]
    }
   ],
   "source": [
    "#step1: Word tokenizing\n",
    "all_word_token = nltk.word_tokenize(text)\n",
    "\n",
    "#step2: getting the base form for each token using stemmer\n",
    "all_base_words = []\n",
    "\n",
    "for token in all_word_token:\n",
    "    base_form = stemmer.stem(token)\n",
    "    all_base_words.append(base_form)\n",
    "\n",
    "#step3: joining all words in a list into string using 'join()'\n",
    "final_base_text = \" \".join(all_base_words)\n",
    "print(final_base_text)"
   ]
  },
  {
   "cell_type": "markdown",
   "id": "04de1a10-0a86-4ff1-ad02-98289bac6b3a",
   "metadata": {},
   "source": [
    "lemmatisation in spacy"
   ]
  },
  {
   "cell_type": "code",
   "execution_count": 7,
   "id": "a13a5dde-1e85-4ab8-853f-a7ed4144d6ac",
   "metadata": {},
   "outputs": [
    {
     "name": "stdout",
     "output_type": "stream",
     "text": [
      "Latha be very multi talented girl . she be good at many skill like dancing , running , singing , play . she also like eat Pav Bhagi . she have a \n",
      " habit of fishing and swim too . besides all this , she be a wonderful at cook too . \n",
      "\n"
     ]
    }
   ],
   "source": [
    "doc = nlp(text)\n",
    "all_base_words = []\n",
    "\n",
    "for token in doc:\n",
    "    base_form = token.lemma_\n",
    "    all_base_words.append(base_form)\n",
    "\n",
    "final_base_text = ' '.join(all_base_words)\n",
    "print(final_base_text)"
   ]
  },
  {
   "cell_type": "code",
   "execution_count": null,
   "id": "98da1270-dc90-4dcd-b21e-9d510c379ec5",
   "metadata": {},
   "outputs": [],
   "source": []
  }
 ],
 "metadata": {
  "kernelspec": {
   "display_name": "Python 3 (ipykernel)",
   "language": "python",
   "name": "python3"
  },
  "language_info": {
   "codemirror_mode": {
    "name": "ipython",
    "version": 3
   },
   "file_extension": ".py",
   "mimetype": "text/x-python",
   "name": "python",
   "nbconvert_exporter": "python",
   "pygments_lexer": "ipython3",
   "version": "3.11.6"
  }
 },
 "nbformat": 4,
 "nbformat_minor": 5
}
