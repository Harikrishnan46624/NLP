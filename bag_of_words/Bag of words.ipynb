{
 "cells": [
  {
   "cell_type": "code",
   "execution_count": 2,
   "id": "838beade-3fbe-4fc7-827d-6c0f877f9bf1",
   "metadata": {},
   "outputs": [],
   "source": [
    "import pandas as pd\n",
    "import numpy as np"
   ]
  },
  {
   "cell_type": "code",
   "execution_count": 5,
   "id": "eb5396d0-e46a-413f-93f7-dc9ce2eb2243",
   "metadata": {},
   "outputs": [
    {
     "data": {
      "text/html": [
       "<div>\n",
       "<style scoped>\n",
       "    .dataframe tbody tr th:only-of-type {\n",
       "        vertical-align: middle;\n",
       "    }\n",
       "\n",
       "    .dataframe tbody tr th {\n",
       "        vertical-align: top;\n",
       "    }\n",
       "\n",
       "    .dataframe thead th {\n",
       "        text-align: right;\n",
       "    }\n",
       "</style>\n",
       "<table border=\"1\" class=\"dataframe\">\n",
       "  <thead>\n",
       "    <tr style=\"text-align: right;\">\n",
       "      <th></th>\n",
       "      <th>Category</th>\n",
       "      <th>Message</th>\n",
       "    </tr>\n",
       "  </thead>\n",
       "  <tbody>\n",
       "    <tr>\n",
       "      <th>0</th>\n",
       "      <td>ham</td>\n",
       "      <td>Go until jurong point, crazy.. Available only ...</td>\n",
       "    </tr>\n",
       "    <tr>\n",
       "      <th>1</th>\n",
       "      <td>ham</td>\n",
       "      <td>Ok lar... Joking wif u oni...</td>\n",
       "    </tr>\n",
       "    <tr>\n",
       "      <th>2</th>\n",
       "      <td>spam</td>\n",
       "      <td>Free entry in 2 a wkly comp to win FA Cup fina...</td>\n",
       "    </tr>\n",
       "    <tr>\n",
       "      <th>3</th>\n",
       "      <td>ham</td>\n",
       "      <td>U dun say so early hor... U c already then say...</td>\n",
       "    </tr>\n",
       "    <tr>\n",
       "      <th>4</th>\n",
       "      <td>ham</td>\n",
       "      <td>Nah I don't think he goes to usf, he lives aro...</td>\n",
       "    </tr>\n",
       "  </tbody>\n",
       "</table>\n",
       "</div>"
      ],
      "text/plain": [
       "  Category                                            Message\n",
       "0      ham  Go until jurong point, crazy.. Available only ...\n",
       "1      ham                      Ok lar... Joking wif u oni...\n",
       "2     spam  Free entry in 2 a wkly comp to win FA Cup fina...\n",
       "3      ham  U dun say so early hor... U c already then say...\n",
       "4      ham  Nah I don't think he goes to usf, he lives aro..."
      ]
     },
     "execution_count": 5,
     "metadata": {},
     "output_type": "execute_result"
    }
   ],
   "source": [
    "df = pd.read_csv(r\"E:\\Programming\\NLP\\bag_of_words\\spam.csv\")\n",
    "df.head()"
   ]
  },
  {
   "cell_type": "code",
   "execution_count": 6,
   "id": "54ae42ee-91b2-482d-863a-2bdff5383d68",
   "metadata": {},
   "outputs": [
    {
     "data": {
      "text/plain": [
       "Category\n",
       "ham     4825\n",
       "spam     747\n",
       "Name: count, dtype: int64"
      ]
     },
     "execution_count": 6,
     "metadata": {},
     "output_type": "execute_result"
    }
   ],
   "source": [
    "df.Category.value_counts()"
   ]
  },
  {
   "cell_type": "code",
   "execution_count": 7,
   "id": "80c6423c-d56c-4ac6-9456-543b3f43e6ee",
   "metadata": {},
   "outputs": [],
   "source": [
    "def ge_spam_number(x):\n",
    "    if x == 'spam':\n",
    "        return 1\n",
    "    else:\n",
    "        return 0"
   ]
  },
  {
   "cell_type": "code",
   "execution_count": 9,
   "id": "7814148a-d379-43d3-bd7b-4e1d50ceb72b",
   "metadata": {},
   "outputs": [],
   "source": [
    "df['spam'] = df['Category'].apply(lambda x: 1 if x ==\"spam\" else 0)"
   ]
  },
  {
   "cell_type": "code",
   "execution_count": 10,
   "id": "2689fdf2-40e4-4b22-9ee5-eacb412a71e1",
   "metadata": {},
   "outputs": [
    {
     "data": {
      "text/plain": [
       "(5572, 3)"
      ]
     },
     "execution_count": 10,
     "metadata": {},
     "output_type": "execute_result"
    }
   ],
   "source": [
    "df.shape\n"
   ]
  },
  {
   "cell_type": "code",
   "execution_count": 11,
   "id": "99191fd5-3234-477b-87ba-74fc9dd42a8a",
   "metadata": {},
   "outputs": [
    {
     "data": {
      "text/html": [
       "<div>\n",
       "<style scoped>\n",
       "    .dataframe tbody tr th:only-of-type {\n",
       "        vertical-align: middle;\n",
       "    }\n",
       "\n",
       "    .dataframe tbody tr th {\n",
       "        vertical-align: top;\n",
       "    }\n",
       "\n",
       "    .dataframe thead th {\n",
       "        text-align: right;\n",
       "    }\n",
       "</style>\n",
       "<table border=\"1\" class=\"dataframe\">\n",
       "  <thead>\n",
       "    <tr style=\"text-align: right;\">\n",
       "      <th></th>\n",
       "      <th>Category</th>\n",
       "      <th>Message</th>\n",
       "      <th>spam</th>\n",
       "    </tr>\n",
       "  </thead>\n",
       "  <tbody>\n",
       "    <tr>\n",
       "      <th>0</th>\n",
       "      <td>ham</td>\n",
       "      <td>Go until jurong point, crazy.. Available only ...</td>\n",
       "      <td>0</td>\n",
       "    </tr>\n",
       "    <tr>\n",
       "      <th>1</th>\n",
       "      <td>ham</td>\n",
       "      <td>Ok lar... Joking wif u oni...</td>\n",
       "      <td>0</td>\n",
       "    </tr>\n",
       "    <tr>\n",
       "      <th>2</th>\n",
       "      <td>spam</td>\n",
       "      <td>Free entry in 2 a wkly comp to win FA Cup fina...</td>\n",
       "      <td>1</td>\n",
       "    </tr>\n",
       "    <tr>\n",
       "      <th>3</th>\n",
       "      <td>ham</td>\n",
       "      <td>U dun say so early hor... U c already then say...</td>\n",
       "      <td>0</td>\n",
       "    </tr>\n",
       "    <tr>\n",
       "      <th>4</th>\n",
       "      <td>ham</td>\n",
       "      <td>Nah I don't think he goes to usf, he lives aro...</td>\n",
       "      <td>0</td>\n",
       "    </tr>\n",
       "  </tbody>\n",
       "</table>\n",
       "</div>"
      ],
      "text/plain": [
       "  Category                                            Message  spam\n",
       "0      ham  Go until jurong point, crazy.. Available only ...     0\n",
       "1      ham                      Ok lar... Joking wif u oni...     0\n",
       "2     spam  Free entry in 2 a wkly comp to win FA Cup fina...     1\n",
       "3      ham  U dun say so early hor... U c already then say...     0\n",
       "4      ham  Nah I don't think he goes to usf, he lives aro...     0"
      ]
     },
     "execution_count": 11,
     "metadata": {},
     "output_type": "execute_result"
    }
   ],
   "source": [
    "df.head()\n"
   ]
  },
  {
   "cell_type": "code",
   "execution_count": 12,
   "id": "d6ec1552-5379-4da3-982a-52853eb09036",
   "metadata": {},
   "outputs": [],
   "source": [
    "from sklearn.model_selection import train_test_split\n",
    "\n",
    "X_train, X_test, y_train, y_test = train_test_split(df.Message, df.spam, test_size=0.2)"
   ]
  },
  {
   "cell_type": "code",
   "execution_count": 13,
   "id": "af9bf918-5a39-402c-945d-cc24a8e1574a",
   "metadata": {},
   "outputs": [
    {
     "data": {
      "text/plain": [
       "(4457,)"
      ]
     },
     "execution_count": 13,
     "metadata": {},
     "output_type": "execute_result"
    }
   ],
   "source": [
    "X_train.shape"
   ]
  },
  {
   "cell_type": "code",
   "execution_count": 14,
   "id": "6b030451-fe9b-42fc-b04e-6e3cb8fa0972",
   "metadata": {},
   "outputs": [
    {
     "data": {
      "text/plain": [
       "pandas.core.series.Series"
      ]
     },
     "execution_count": 14,
     "metadata": {},
     "output_type": "execute_result"
    }
   ],
   "source": [
    "type(X_train)"
   ]
  },
  {
   "cell_type": "code",
   "execution_count": 15,
   "id": "5b12d083-559a-4c0c-a2fb-fdf210ea2cad",
   "metadata": {},
   "outputs": [
    {
     "data": {
      "text/plain": [
       "4181    swhrt how u dey,hope ur ok, tot about u 2day.l...\n",
       "394     Yes i think so. I am in office but my lap is i...\n",
       "2193    Congrats ! Treat pending.i am not on mail for ...\n",
       "1188    There's no point hangin on to mr not right if ...\n",
       "Name: Message, dtype: object"
      ]
     },
     "execution_count": 15,
     "metadata": {},
     "output_type": "execute_result"
    }
   ],
   "source": [
    "X_train[:4]"
   ]
  },
  {
   "cell_type": "code",
   "execution_count": 16,
   "id": "1d27ff71-565a-4cc9-8db2-ce906172f266",
   "metadata": {},
   "outputs": [
    {
     "data": {
      "text/plain": [
       "numpy.ndarray"
      ]
     },
     "execution_count": 16,
     "metadata": {},
     "output_type": "execute_result"
    }
   ],
   "source": [
    "type(X_train.values)"
   ]
  },
  {
   "cell_type": "code",
   "execution_count": 33,
   "id": "c68fbff5-b12b-4d7e-bf73-fe09c6b3a67b",
   "metadata": {},
   "outputs": [
    {
     "data": {
      "text/plain": [
       "pandas.core.series.Series"
      ]
     },
     "execution_count": 33,
     "metadata": {},
     "output_type": "execute_result"
    }
   ],
   "source": [
    "type(y_train)"
   ]
  },
  {
   "cell_type": "code",
   "execution_count": 34,
   "id": "d7d27b25-11fc-405f-b548-fe80fdae37e3",
   "metadata": {},
   "outputs": [
    {
     "data": {
      "text/plain": [
       "4181    0\n",
       "394     0\n",
       "2193    0\n",
       "1188    0\n",
       "Name: spam, dtype: int64"
      ]
     },
     "execution_count": 34,
     "metadata": {},
     "output_type": "execute_result"
    }
   ],
   "source": [
    "y_train[:4\n",
    "]"
   ]
  },
  {
   "cell_type": "markdown",
   "id": "54723cff-093a-4998-bce6-03afa17150fd",
   "metadata": {},
   "source": [
    "Create bag of words representation using CountVectorizer\n"
   ]
  },
  {
   "cell_type": "code",
   "execution_count": 19,
   "id": "ab70d678-1264-4420-8b8b-a2da863b0412",
   "metadata": {},
   "outputs": [
    {
     "data": {
      "text/plain": [
       "<4457x7791 sparse matrix of type '<class 'numpy.int64'>'\n",
       "\twith 59718 stored elements in Compressed Sparse Row format>"
      ]
     },
     "execution_count": 19,
     "metadata": {},
     "output_type": "execute_result"
    }
   ],
   "source": [
    "from sklearn.feature_extraction.text import CountVectorizer\n",
    "\n",
    "v = CountVectorizer()\n",
    "X_train_cv = v.fit_transform(X_train.values)\n",
    "X_train_cv"
   ]
  },
  {
   "cell_type": "code",
   "execution_count": 35,
   "id": "5e631ccc-4c80-4fd3-bdeb-6f5be63f2aa6",
   "metadata": {},
   "outputs": [
    {
     "data": {
      "text/plain": [
       "array([0, 0, 0, ..., 0, 0, 0], dtype=int64)"
      ]
     },
     "execution_count": 35,
     "metadata": {},
     "output_type": "execute_result"
    }
   ],
   "source": [
    "X_train_cv.toarray()[:2][0]"
   ]
  },
  {
   "cell_type": "code",
   "execution_count": 36,
   "id": "4bd3f3b3-c4d4-41e8-b2d8-7b61bb8d7056",
   "metadata": {},
   "outputs": [
    {
     "data": {
      "text/plain": [
       "(4457, 7791)"
      ]
     },
     "execution_count": 36,
     "metadata": {},
     "output_type": "execute_result"
    }
   ],
   "source": [
    "X_train_cv.shape"
   ]
  },
  {
   "cell_type": "code",
   "execution_count": 37,
   "id": "b5f6981a-e9c7-480e-b5f2-88e008c01dd1",
   "metadata": {},
   "outputs": [
    {
     "data": {
      "text/plain": [
       "array(['00', '000', '000pes', ..., 'zoom', 'zyada', 'èn'], dtype=object)"
      ]
     },
     "execution_count": 37,
     "metadata": {},
     "output_type": "execute_result"
    }
   ],
   "source": [
    "v.get_feature_names_out()"
   ]
  },
  {
   "cell_type": "code",
   "execution_count": 38,
   "id": "75297bdc-c293-4e24-b05b-66a00eb789a1",
   "metadata": {},
   "outputs": [
    {
     "data": {
      "text/plain": [
       "array(['08712402050', '08712402578', '08712402902', '08712402972',\n",
       "       '08712404000', '08712405020', '08712405022', '08712460324',\n",
       "       '08712466669', '0871277810710p', '0871277810810', '0871277810910p',\n",
       "       '08714342399', '087147123779am', '08714712379', '08714712394',\n",
       "       '08714712412', '08715203028', '08715203649', '08715203656',\n",
       "       '08715203677', '08715203685', '08715203694', '08715205273',\n",
       "       '08715500022', '08715705022', '08717111821', '08717168528',\n",
       "       '08717205546', '0871750', '08717507382', '08717509990',\n",
       "       '08717890890', '08717895698', '08717898035', '08718711108',\n",
       "       '08718720201', '08718723815', '08718726270', '087187262701',\n",
       "       '08718726970', '08718726971', '08718726978', '087187272008',\n",
       "       '08718727870', '08718727870150ppm', '08718730555', '08718730666',\n",
       "       '08718738001', '08718738002'], dtype=object)"
      ]
     },
     "execution_count": 38,
     "metadata": {},
     "output_type": "execute_result"
    }
   ],
   "source": [
    "v.get_feature_names_out()[100:150]"
   ]
  },
  {
   "cell_type": "code",
   "execution_count": 39,
   "id": "0a9c00a8-ac42-45b7-81c8-1a62ea30e575",
   "metadata": {},
   "outputs": [
    {
     "data": {
      "text/plain": [
       "'checking'"
      ]
     },
     "execution_count": 39,
     "metadata": {},
     "output_type": "execute_result"
    }
   ],
   "source": [
    "v.get_feature_names_out()[1771]"
   ]
  },
  {
   "cell_type": "code",
   "execution_count": 40,
   "id": "45fceac6-60d3-46af-ba16-6581a1dad482",
   "metadata": {},
   "outputs": [
    {
     "data": {
      "text/plain": [
       "{'swhrt': 6700,\n",
       " 'how': 3563,\n",
       " 'dey': 2305,\n",
       " 'hope': 3531,\n",
       " 'ur': 7249,\n",
       " 'ok': 4956,\n",
       " 'tot': 7040,\n",
       " 'about': 763,\n",
       " '2day': 382,\n",
       " 'love': 4263,\n",
       " 'miss': 4543,\n",
       " 'take': 6732,\n",
       " 'care': 1670,\n",
       " 'yes': 7738,\n",
       " 'think': 6887,\n",
       " 'so': 6319,\n",
       " 'am': 939,\n",
       " 'in': 3684,\n",
       " 'office': 4940,\n",
       " 'but': 1593,\n",
       " 'my': 4704,\n",
       " 'lap': 4052,\n",
       " 'is': 3786,\n",
       " 'room': 5861,\n",
       " 'thats': 6856,\n",
       " 'on': 4973,\n",
       " 'for': 2967,\n",
       " 'the': 6857,\n",
       " 'last': 4061,\n",
       " 'few': 2842,\n",
       " 'days': 2208,\n",
       " 'didnt': 2324,\n",
       " 'shut': 6181,\n",
       " 'that': 6853,\n",
       " 'down': 2448,\n",
       " 'congrats': 1982,\n",
       " 'treat': 7079,\n",
       " 'pending': 5184,\n",
       " 'not': 4863,\n",
       " 'mail': 4352,\n",
       " 'will': 7567,\n",
       " 'once': 4977,\n",
       " 'thru': 6922,\n",
       " 'respect': 5781,\n",
       " 'mother': 4628,\n",
       " 'at': 1124,\n",
       " 'home': 3516,\n",
       " 'check': 1768,\n",
       " 'mails': 4355,\n",
       " 'there': 6874,\n",
       " 'no': 4833,\n",
       " 'point': 5327,\n",
       " 'hangin': 3355,\n",
       " 'to': 6980,\n",
       " 'mr': 4647,\n",
       " 'right': 5825,\n",
       " 'if': 3645,\n",
       " 'he': 3405,\n",
       " 'makin': 4363,\n",
       " 'happy': 3371,\n",
       " 'urgent': 7252,\n",
       " 'this': 6895,\n",
       " 'our': 5046,\n",
       " '2nd': 404,\n",
       " 'attempt': 1136,\n",
       " 'contact': 1998,\n",
       " 'your': 7761,\n",
       " '900': 723,\n",
       " 'prize': 5464,\n",
       " 'from': 3048,\n",
       " 'yesterday': 7740,\n",
       " 'still': 6519,\n",
       " 'awaiting': 1174,\n",
       " 'collection': 1912,\n",
       " 'claim': 1835,\n",
       " 'call': 1622,\n",
       " 'now': 4875,\n",
       " '09061702893': 190,\n",
       " 'acl03530150pm': 798,\n",
       " 'message': 4492,\n",
       " 'some': 6332,\n",
       " 'text': 6830,\n",
       " 'missing': 4547,\n",
       " 'sender': 6052,\n",
       " 'name': 4725,\n",
       " 'number': 4890,\n",
       " 'sent': 6060,\n",
       " 'date': 2199,\n",
       " 'lot': 4249,\n",
       " 'everything': 2695,\n",
       " 'via': 7328,\n",
       " 'fullonsms': 3069,\n",
       " 'com': 1919,\n",
       " 'idea': 3634,\n",
       " 'guess': 3301,\n",
       " 'we': 7466,\n",
       " 'll': 4194,\n",
       " 'work': 7641,\n",
       " 'out': 5048,\n",
       " 'an': 963,\n",
       " 'hour': 3556,\n",
       " 'after': 853,\n",
       " 're': 5632,\n",
       " 'supposed': 6664,\n",
       " 'leave': 4097,\n",
       " 'since': 6211,\n",
       " 'as': 1093,\n",
       " 'usual': 7276,\n",
       " 'nobody': 4836,\n",
       " 'has': 3380,\n",
       " 'any': 998,\n",
       " 'interest': 3745,\n",
       " 'figuring': 2863,\n",
       " 'shit': 6133,\n",
       " 'before': 1309,\n",
       " 'second': 6013,\n",
       " 'do': 2395,\n",
       " 'friends': 3033,\n",
       " 'help': 3439,\n",
       " 'us': 7263,\n",
       " 'problems': 5472,\n",
       " 'they': 6880,\n",
       " 'give': 3172,\n",
       " 'most': 4626,\n",
       " 'stupid': 6585,\n",
       " 'suggestion': 6627,\n",
       " 'lands': 4049,\n",
       " 'into': 3754,\n",
       " 'another': 986,\n",
       " 'problem': 5470,\n",
       " 'and': 967,\n",
       " 'helps': 3445,\n",
       " 'forgt': 2981,\n",
       " 'previous': 5443,\n",
       " 'oh': 4951,\n",
       " 'haha': 3327,\n",
       " 'den': 2264,\n",
       " 'shld': 6137,\n",
       " 'had': 3324,\n",
       " 'went': 7509,\n",
       " 'today': 6985,\n",
       " 'too': 7018,\n",
       " 'gee': 3127,\n",
       " 'nvm': 4898,\n",
       " 'la': 4027,\n",
       " 'kaiez': 3924,\n",
       " 'dun': 2506,\n",
       " 'mind': 4520,\n",
       " 'goin': 3197,\n",
       " 'jazz': 3844,\n",
       " 'oso': 5038,\n",
       " 'scared': 5974,\n",
       " 'hiphop': 3481,\n",
       " 'open': 4994,\n",
       " 'cant': 1657,\n",
       " 'catch': 1701,\n",
       " 'up': 7234,\n",
       " 'one': 4979,\n",
       " 'of': 4929,\n",
       " 'you': 7755,\n",
       " 'have': 3395,\n",
       " 'billion': 1369,\n",
       " 'classes': 1845,\n",
       " 'cud': 2130,\n",
       " 'tell': 6797,\n",
       " 'ppl': 5392,\n",
       " 'im': 3659,\n",
       " 'gona': 3206,\n",
       " 'bit': 1383,\n",
       " 'l8': 4024,\n",
       " 'cos': 2038,\n",
       " 'buses': 1588,\n",
       " 'hav': 3391,\n",
       " 'gon': 3205,\n",
       " 'past': 5147,\n",
       " 'were': 7512,\n",
       " 'full': 3068,\n",
       " 'waitin': 7405,\n",
       " 'pete': 5212,\n",
       " 'tacos': 6725,\n",
       " 'rajas': 5601,\n",
       " 'burrito': 1585,\n",
       " 'congratulations': 1984,\n",
       " 'awarded': 1177,\n",
       " '500': 540,\n",
       " 'cd': 1713,\n",
       " 'vouchers': 7376,\n",
       " 'or': 5013,\n",
       " '125gift': 279,\n",
       " 'guaranteed': 3295,\n",
       " 'free': 3012,\n",
       " 'entry': 2638,\n",
       " '100': 250,\n",
       " 'wkly': 7609,\n",
       " 'draw': 2462,\n",
       " 'txt': 7144,\n",
       " 'music': 4693,\n",
       " '87066': 691,\n",
       " 'tncs': 6979,\n",
       " 'www': 7689,\n",
       " 'ldew': 4084,\n",
       " 'com1win150ppmx3age16': 1920,\n",
       " 'must': 4695,\n",
       " 'taken': 6734,\n",
       " 'real': 5643,\n",
       " 'valentine': 7291,\n",
       " 'shopping': 6145,\n",
       " 'first': 2898,\n",
       " 'like': 4144,\n",
       " 'lt': 4284,\n",
       " 'gt': 3291,\n",
       " 'same': 5930,\n",
       " 'question': 5572,\n",
       " 'realy': 5653,\n",
       " 'sorry': 6365,\n",
       " 'don': 2426,\n",
       " 'recognise': 5676,\n",
       " 'confused': 1980,\n",
       " 'who': 7543,\n",
       " 'please': 5291,\n",
       " 'hi': 3465,\n",
       " 'test': 6824,\n",
       " 'rd': 5630,\n",
       " 'grand': 3249,\n",
       " 'having': 3400,\n",
       " 'party': 5135,\n",
       " 'it': 3798,\n",
       " 'doesn': 2406,\n",
       " 'mention': 4481,\n",
       " 'cover': 2065,\n",
       " 'charge': 1750,\n",
       " 'probably': 5469,\n",
       " 'come': 1924,\n",
       " 'served': 6070,\n",
       " 'sleep': 6255,\n",
       " 'well': 7504,\n",
       " 'need': 4769,\n",
       " 'learn': 4094,\n",
       " 'change': 1741,\n",
       " 'life': 4134,\n",
       " 'only': 4985,\n",
       " 'get': 3146,\n",
       " 'convinced': 2015,\n",
       " 'wait': 7403,\n",
       " 'more': 4617,\n",
       " 'conversations': 2010,\n",
       " 'between': 1348,\n",
       " 'by': 1607,\n",
       " 'time': 6945,\n",
       " 'family': 2786,\n",
       " 'over': 5064,\n",
       " 'many': 4384,\n",
       " 'senses': 6057,\n",
       " 'them': 6865,\n",
       " 'overemphasise': 5067,\n",
       " 'role': 5855,\n",
       " 'lor': 4241,\n",
       " 'me': 4442,\n",
       " 'when': 7530,\n",
       " 'chance': 1739,\n",
       " 'plz': 5304,\n",
       " 'email': 2589,\n",
       " 'id': 3632,\n",
       " 'soon': 6356,\n",
       " 'very': 7325,\n",
       " 'rude': 5883,\n",
       " 'campus': 1644,\n",
       " 'snowboarding': 6317,\n",
       " 'trip': 7088,\n",
       " 'was': 7440,\n",
       " 'wondering': 7629,\n",
       " 'planning': 5278,\n",
       " 'everyone': 2692,\n",
       " 'together': 6988,\n",
       " 'befor': 1308,\n",
       " 'go': 3188,\n",
       " 'meet': 4461,\n",
       " 'greet': 3270,\n",
       " 'kind': 3981,\n",
       " 'affair': 844,\n",
       " 'cheers': 1776,\n",
       " 'much': 4669,\n",
       " 'gave': 3116,\n",
       " 'morning': 4621,\n",
       " 'fyi': 3084,\n",
       " 'back': 1203,\n",
       " 'parents': 5121,\n",
       " 'place': 5268,\n",
       " 'south': 6381,\n",
       " 'tampa': 6749,\n",
       " 'might': 4507,\n",
       " 'deal': 2215,\n",
       " 'somewhere': 6346,\n",
       " 'else': 2585,\n",
       " 'her': 3450,\n",
       " 'she': 6113,\n",
       " 'doesnt': 2407,\n",
       " 'reply': 5757,\n",
       " 'let': 4121,\n",
       " 'know': 4000,\n",
       " 'can': 1646,\n",
       " 'log': 4212,\n",
       " 'staff': 6466,\n",
       " 'placement': 5270,\n",
       " 'training': 7059,\n",
       " 'amrita': 958,\n",
       " 'college': 1914,\n",
       " 'lobby': 4203,\n",
       " 'hey': 3461,\n",
       " 'looks': 4235,\n",
       " 'wrong': 7677,\n",
       " 'kappa': 3935,\n",
       " 'guys': 3314,\n",
       " 'numbers': 4891,\n",
       " 'phone': 5228,\n",
       " 'want': 7427,\n",
       " 'him': 3476,\n",
       " 'see': 6025,\n",
       " 'around': 1077,\n",
       " 'booked': 1441,\n",
       " 'kb': 3945,\n",
       " 'sat': 5947,\n",
       " 'already': 927,\n",
       " 'what': 7524,\n",
       " 'other': 5039,\n",
       " 'lessons': 4120,\n",
       " 'are': 1056,\n",
       " 'going': 3198,\n",
       " 'ah': 874,\n",
       " 'keep': 3948,\n",
       " 'night': 4814,\n",
       " 'confirm': 1976,\n",
       " 'lodging': 4211,\n",
       " 'liked': 4145,\n",
       " 'new': 4798,\n",
       " 'mobile': 4575,\n",
       " 'lol': 4220,\n",
       " 'gonna': 3209,\n",
       " 'month': 4611,\n",
       " 'cashed': 1694,\n",
       " 'left': 4102,\n",
       " 'just': 3913,\n",
       " 'case': 1692,\n",
       " 'collecting': 1911,\n",
       " 'during': 2511,\n",
       " 'week': 7488,\n",
       " 'cause': 1706,\n",
       " 'announced': 981,\n",
       " 'blog': 1411,\n",
       " 'oic': 4953,\n",
       " 'sis': 6223,\n",
       " 'got': 3226,\n",
       " 'lunch': 4296,\n",
       " 'dad': 2170,\n",
       " 'dunno': 2507,\n",
       " 'whether': 7538,\n",
       " 'eat': 2536,\n",
       " 'sch': 5978,\n",
       " 'wat': 7446,\n",
       " 'taking': 6737,\n",
       " 'half': 3336,\n",
       " 'day': 2207,\n",
       " 'bec': 1288,\n",
       " 'hamster': 3344,\n",
       " 'dead': 2214,\n",
       " 'tmr': 6974,\n",
       " '1pm': 330,\n",
       " 'orchard': 5020,\n",
       " 'mrt': 4650,\n",
       " 'finish': 2885,\n",
       " 'mon': 4599,\n",
       " 'thurs': 6927,\n",
       " '1apple': 321,\n",
       " 'doctor': 2400,\n",
       " '1tulsi': 336,\n",
       " 'leaf': 4092,\n",
       " 'cancer': 1653,\n",
       " '1lemon': 327,\n",
       " 'fat': 2803,\n",
       " '1cup': 323,\n",
       " 'milk': 4512,\n",
       " 'bone': 1435,\n",
       " 'problms': 5473,\n",
       " 'litres': 4185,\n",
       " 'watr': 7457,\n",
       " 'diseases': 2374,\n",
       " 'snd': 6312,\n",
       " 'ths': 6923,\n",
       " 'whom': 7546,\n",
       " 'hanging': 3356,\n",
       " 'with': 7595,\n",
       " 'brother': 1541,\n",
       " 'his': 3482,\n",
       " 'spook': 6435,\n",
       " 'mob': 4573,\n",
       " 'halloween': 3341,\n",
       " 'logo': 4216,\n",
       " 'pic': 5239,\n",
       " 'plus': 5302,\n",
       " 'eerie': 2556,\n",
       " 'tone': 7007,\n",
       " 'card': 1666,\n",
       " '8007': 642,\n",
       " 'zed': 7782,\n",
       " '08701417012150p': 72,\n",
       " 'per': 5189,\n",
       " 'dai': 2173,\n",
       " 'da': 2167,\n",
       " 'send': 6051,\n",
       " 'resume': 5798,\n",
       " 'anyway': 1010,\n",
       " 'good': 3211,\n",
       " 'evenings': 2683,\n",
       " 'bruce': 1550,\n",
       " 'amp': 955,\n",
       " 'fowler': 2999,\n",
       " 'mom': 4595,\n",
       " 'car': 1665,\n",
       " 'park': 5124,\n",
       " 'long': 4227,\n",
       " 'story': 6544,\n",
       " 'msg': 4652,\n",
       " 'single': 6216,\n",
       " 'find': 2879,\n",
       " 'partner': 5132,\n",
       " 'area': 1057,\n",
       " '1000s': 253,\n",
       " 'people': 5187,\n",
       " 'waiting': 7406,\n",
       " 'chat': 1761,\n",
       " '62220cncl': 579,\n",
       " 'stopcs': 6536,\n",
       " '08717890890': 132,\n",
       " '50': 539,\n",
       " 'almost': 923,\n",
       " 'gas': 3111,\n",
       " 'cash': 1693,\n",
       " 'tomorrow': 7005,\n",
       " 'nice': 4807,\n",
       " 'off': 4931,\n",
       " 'sheffield': 6116,\n",
       " 'tom': 6999,\n",
       " 'air': 886,\n",
       " 'opinions': 5003,\n",
       " 'categories': 1704,\n",
       " 'used': 7267,\n",
       " 'measure': 4452,\n",
       " 'ethnicity': 2671,\n",
       " 'next': 4804,\n",
       " 'census': 1723,\n",
       " 'busy': 1592,\n",
       " 'transcribing': 7065,\n",
       " 'wont': 7631,\n",
       " 'touch': 7043,\n",
       " 'permission': 5200,\n",
       " 'wif': 7557,\n",
       " 'buying': 1600,\n",
       " 'tix': 6963,\n",
       " 'lar': 4055,\n",
       " 'misplaced': 4542,\n",
       " 'sending': 6053,\n",
       " 'texts': 6840,\n",
       " 'old': 4968,\n",
       " 'why': 7551,\n",
       " 've': 7310,\n",
       " 'heard': 3417,\n",
       " 'year': 7729,\n",
       " 'all': 914,\n",
       " 'best': 1340,\n",
       " 'mcat': 4441,\n",
       " 'atlanta': 1128,\n",
       " 'did': 2321,\n",
       " 'persons': 5208,\n",
       " 'tmrw': 6975,\n",
       " 'finishing': 2889,\n",
       " 'doors': 2438,\n",
       " 'house': 3559,\n",
       " 'solve': 6330,\n",
       " 'man': 4369,\n",
       " 'found': 2994,\n",
       " 'murdered': 4688,\n",
       " 'decimal': 2230,\n",
       " 'afternoon': 855,\n",
       " 'wife': 7558,\n",
       " 'called': 1629,\n",
       " 'police': 5332,\n",
       " 'questioned': 5573,\n",
       " 'sir': 6221,\n",
       " 'sleeping': 6257,\n",
       " 'murder': 4687,\n",
       " 'took': 7019,\n",
       " 'cook': 2017,\n",
       " 'cooking': 2020,\n",
       " 'gardener': 3107,\n",
       " 'picking': 5242,\n",
       " 'vegetables': 7312,\n",
       " 'maid': 4351,\n",
       " 'post': 5374,\n",
       " 'children': 1797,\n",
       " 'play': 5282,\n",
       " 'neighbour': 4780,\n",
       " 'marriage': 4400,\n",
       " 'arrested': 1081,\n",
       " 'murderer': 4689,\n",
       " 'immediately': 3670,\n",
       " 'reason': 5656,\n",
       " 'brilliant': 1522,\n",
       " 'explicit': 2744,\n",
       " 'sex': 6083,\n",
       " '30': 424,\n",
       " 'secs': 6019,\n",
       " 'ring': 5830,\n",
       " '02073162414': 11,\n",
       " 'costs': 2043,\n",
       " '20p': 351,\n",
       " 'min': 4517,\n",
       " 'crucify': 2108,\n",
       " 'should': 6157,\n",
       " 'told': 6994,\n",
       " 'earlier': 2522,\n",
       " 'joined': 3877,\n",
       " 'itself': 3807,\n",
       " 'download': 2449,\n",
       " 'ringtones': 5834,\n",
       " 'restrictions': 5793,\n",
       " 'choose': 1816,\n",
       " 'even': 2681,\n",
       " 'yr': 7770,\n",
       " 'buddys': 1564,\n",
       " '80082': 643,\n",
       " 'multimedia': 4675,\n",
       " 'thanks': 6846,\n",
       " 'trash': 7071,\n",
       " 'ill': 3656,\n",
       " 'be': 1279,\n",
       " 'yours': 7764,\n",
       " 'mins': 4532,\n",
       " 'look': 4231,\n",
       " 'awesome': 1179,\n",
       " 'minute': 4534,\n",
       " 'dont': 2430,\n",
       " 'worry': 7651,\n",
       " 'big': 1362,\n",
       " 'lambu': 4040,\n",
       " 'ji': 3861,\n",
       " 'vl': 7361,\n",
       " 'til': 6943,\n",
       " 'then': 6868,\n",
       " 'enjoy': 2621,\n",
       " 'batchlor': 1254,\n",
       " 'dear': 2217,\n",
       " 'dollars': 2422,\n",
       " 'spjanuary': 6422,\n",
       " 'male': 4367,\n",
       " 'sale': 5922,\n",
       " 'hot': 3550,\n",
       " 'gay': 3117,\n",
       " 'cheaper': 1764,\n",
       " '08709222922': 90,\n",
       " 'national': 4746,\n",
       " 'rate': 5618,\n",
       " '5p': 565,\n",
       " 'cheap': 1763,\n",
       " '8p': 719,\n",
       " 'peak': 5175,\n",
       " 'stop': 6532,\n",
       " '08712460324': 107,\n",
       " '10p': 260,\n",
       " 'yet': 7741,\n",
       " 'chikku': 1794,\n",
       " 'abt': 770,\n",
       " 'tht': 6924,\n",
       " 'guy': 3313,\n",
       " 'stopped': 6537,\n",
       " 'irritating': 3784,\n",
       " 'msging': 4654,\n",
       " 'anthony': 996,\n",
       " 'bringing': 1526,\n",
       " 'money': 4602,\n",
       " 'school': 5980,\n",
       " 'fees': 2831,\n",
       " 'pay': 5159,\n",
       " 'rent': 5745,\n",
       " 'stuff': 6579,\n",
       " 'friend': 3032,\n",
       " 'jus': 3912,\n",
       " 'watching': 7451,\n",
       " 'tv': 7133,\n",
       " 'wonders': 7630,\n",
       " 'world': 7647,\n",
       " '7th': 637,\n",
       " '6th': 609,\n",
       " 'style': 6586,\n",
       " '5th': 567,\n",
       " 'smile': 6290,\n",
       " '4th': 528,\n",
       " 'personality': 5207,\n",
       " '3rd': 469,\n",
       " 'nature': 4748,\n",
       " 'sms': 6302,\n",
       " '1st': 331,\n",
       " 'lovely': 4266,\n",
       " 'friendship': 3034,\n",
       " 'again': 860,\n",
       " 'wanna': 7425,\n",
       " 'make': 4360,\n",
       " 'sure': 6668,\n",
       " 'knocking': 3999,\n",
       " 'door': 2437,\n",
       " 'stay': 6497,\n",
       " 'yeah': 7728,\n",
       " 'its': 3806,\n",
       " 'been': 1303,\n",
       " 'tough': 7045,\n",
       " 'optimistic': 5010,\n",
       " 'things': 6886,\n",
       " 'improve': 3681,\n",
       " 'height': 3430,\n",
       " 'confidence': 1974,\n",
       " 'aeronautics': 841,\n",
       " 'professors': 5482,\n",
       " 'wer': 7511,\n",
       " 'calld': 1628,\n",
       " 'askd': 1101,\n",
       " 'sit': 6226,\n",
       " 'aeroplane': 842,\n",
       " 'aftr': 858,\n",
       " 'dat': 2198,\n",
       " 'plane': 5274,\n",
       " 'ws': 7679,\n",
       " 'made': 4336,\n",
       " 'their': 6863,\n",
       " 'students': 6573,\n",
       " 'hurried': 3600,\n",
       " 'bt': 1556,\n",
       " 'move': 4638,\n",
       " 'said': 5917,\n",
       " 'start': 6484,\n",
       " 'datz': 2204,\n",
       " 'accidentally': 782,\n",
       " 'silent': 6200,\n",
       " 'didn': 2323,\n",
       " 'medical': 4457,\n",
       " 'missions': 4549,\n",
       " 'nigeria': 4812,\n",
       " 'idk': 3641,\n",
       " 'saying': 5967,\n",
       " 'moved': 4639,\n",
       " 'butting': 1596,\n",
       " 'heads': 3410,\n",
       " 'freedom': 3014,\n",
       " 'vs': 7379,\n",
       " 'responsibility': 5788,\n",
       " 'tired': 6953,\n",
       " 'barely': 1236,\n",
       " 'keeping': 3949,\n",
       " 'myself': 4709,\n",
       " 'gets': 3148,\n",
       " 'added': 817,\n",
       " 'anymore': 1001,\n",
       " 'nothing': 4867,\n",
       " 'say': 5964,\n",
       " 'evening': 2682,\n",
       " 'thk': 6896,\n",
       " 'gotta': 3232,\n",
       " 'urself': 7262,\n",
       " 'frens': 3023,\n",
       " 'present': 5431,\n",
       " 'double': 2445,\n",
       " 'txts': 7152,\n",
       " '6months': 606,\n",
       " 'bluetooth': 1423,\n",
       " 'orange': 5017,\n",
       " 'available': 1163,\n",
       " 'sony': 6353,\n",
       " 'nokia': 4842,\n",
       " 'motorola': 4633,\n",
       " 'phones': 5232,\n",
       " 'mobileupd8': 4579,\n",
       " '08000839402': 47,\n",
       " 'call2optout': 1624,\n",
       " 'n9dx': 4713,\n",
       " 'saw': 5963,\n",
       " 'ron': 5860,\n",
       " 'burgundy': 1581,\n",
       " 'captaining': 1664,\n",
       " 'boat': 1427,\n",
       " 'book': 1440,\n",
       " 'huh': 3586,\n",
       " 'yoga': 7751,\n",
       " 'basic': 1247,\n",
       " 'sunday': 6643,\n",
       " 'really': 5651,\n",
       " 'perform': 5192,\n",
       " 'write': 7669,\n",
       " 'paper': 5110,\n",
       " 'movie': 4641,\n",
       " 'midnight': 4505,\n",
       " 'situation': 6231,\n",
       " 'throws': 6921,\n",
       " 'luv': 4300,\n",
       " 'letter': 4123,\n",
       " 'gal': 3093,\n",
       " 'falls': 2783,\n",
       " 'brothers': 1542,\n",
       " 'head': 3406,\n",
       " 'whos': 7548,\n",
       " 'meanwhile': 4451,\n",
       " 'project': 5488,\n",
       " 'twins': 7140,\n",
       " 'comin': 1929,\n",
       " '750': 620,\n",
       " 'anytime': 1009,\n",
       " 'network': 4791,\n",
       " '150': 295,\n",
       " 'video': 7333,\n",
       " 'five': 2904,\n",
       " 'pounds': 5386,\n",
       " '08000776320': 46,\n",
       " 'delivery': 2260,\n",
       " 'later': 4066,\n",
       " 'poyyarikatur': 5391,\n",
       " 'kolathupalayam': 4009,\n",
       " 'unjalur': 7216,\n",
       " 'erode': 2653,\n",
       " 'dis': 2361,\n",
       " 'valentines': 7292,\n",
       " 'proof': 5502,\n",
       " 'fb': 2816,\n",
       " 'page': 5089,\n",
       " 'ugh': 7167,\n",
       " 'glad': 3176,\n",
       " 'watch': 7447,\n",
       " 'rupaul': 5896,\n",
       " 'show': 6163,\n",
       " 'tool': 7021,\n",
       " 'could': 2050,\n",
       " 'excuse': 2718,\n",
       " 'complimentary': 1953,\n",
       " 'eurodisinc': 2675,\n",
       " 'trav': 7073,\n",
       " 'aco': 799,\n",
       " 'entry41': 2639,\n",
       " '1000': 251,\n",
       " '87121': 694,\n",
       " '18': 314,\n",
       " 'morefrmmob': 4618,\n",
       " 'shracomorsglsuplt': 6172,\n",
       " '10': 249,\n",
       " 'ls1': 4281,\n",
       " '3aj': 457,\n",
       " 'account': 789,\n",
       " 'credited': 2091,\n",
       " 'messages': 4494,\n",
       " 'activate': 807,\n",
       " 'word': 7639,\n",
       " 'credit': 2090,\n",
       " '80488': 649,\n",
       " 'cs': 2114,\n",
       " 'biz': 1389,\n",
       " 'eh': 2566,\n",
       " 'liao': 4126,\n",
       " 'official': 4942,\n",
       " 'england': 2619,\n",
       " 'poly': 5335,\n",
       " 'ringtone': 5832,\n",
       " 'colour': 1916,\n",
       " 'flag': 2911,\n",
       " 'yer': 7737,\n",
       " 'tonights': 7014,\n",
       " 'game': 3096,\n",
       " '84199': 678,\n",
       " 'optout': 5012,\n",
       " 'eng': 2615,\n",
       " 'box39822': 1477,\n",
       " 'w111wx': 7383,\n",
       " 'fine': 2882,\n",
       " 'meh': 4466,\n",
       " 'thgt': 6882,\n",
       " 'clash': 1843,\n",
       " 'seen': 6033,\n",
       " 'lost': 4248,\n",
       " 'weight': 7495,\n",
       " 'reverse': 5810,\n",
       " 'cheating': 1766,\n",
       " 'mathematics': 4420,\n",
       " 'xxxmobilemovieclub': 7704,\n",
       " 'use': 7266,\n",
       " 'click': 1858,\n",
       " 'wap': 7432,\n",
       " 'link': 4164,\n",
       " 'here': 3451,\n",
       " 'http': 3577,\n",
       " 'qjkgighjjgcbl': 5564,\n",
       " 'means': 4449,\n",
       " 'computational': 1957,\n",
       " 'science': 5982,\n",
       " 'push': 5550,\n",
       " 'roger': 5854,\n",
       " 'otside': 5044,\n",
       " 'le': 4087,\n",
       " '2morrow': 399,\n",
       " 'maga': 4342,\n",
       " 'promise': 5493,\n",
       " 'princess': 5453,\n",
       " 'run': 5893,\n",
       " 'pics': 5244,\n",
       " 'ttyl': 7118,\n",
       " 'completely': 1951,\n",
       " 'form': 2982,\n",
       " 'clark': 1841,\n",
       " 'also': 930,\n",
       " 'utter': 7279,\n",
       " 'waste': 7443,\n",
       " 'shhhhh': 6121,\n",
       " 'consider': 1992,\n",
       " 'walls': 7419,\n",
       " 'bunkers': 1577,\n",
       " 'important': 3675,\n",
       " 'because': 1290,\n",
       " 'never': 4796,\n",
       " 'peaceful': 5173,\n",
       " 'high': 3470,\n",
       " 'enough': 2626,\n",
       " 'matter': 4426,\n",
       " 'hppnss': 3571,\n",
       " 'drop': 2481,\n",
       " 'tear': 6784,\n",
       " 'sorrow': 6363,\n",
       " 'part': 5128,\n",
       " 'heart': 3420,\n",
       " 'mine': 4523,\n",
       " 'wil': 7563,\n",
       " 'forevr': 2973,\n",
       " 'goodfriend': 3213,\n",
       " 'rose': 5867,\n",
       " 'red': 5686,\n",
       " 'blood': 1416,\n",
       " 'tis': 6958,\n",
       " 'including': 3692,\n",
       " 'poor': 5349,\n",
       " 'relation': 5715,\n",
       " 'support': 6661,\n",
       " 'frnd': 3040,\n",
       " 'some1': 6333,\n",
       " 'luvs': 4302,\n",
       " 'praying': 5409,\n",
       " 'god': 3193,\n",
       " 'marry': 4402,\n",
       " 'try': 7107,\n",
       " 'cost': 2040,\n",
       " 'approx': 1042,\n",
       " 'easy': 2535,\n",
       " 'actually': 812,\n",
       " 'weeks': 7493,\n",
       " 'putting': 5556,\n",
       " 'ad': 813,\n",
       " 'looking': 4234,\n",
       " 'lov': 4261,\n",
       " 'line': 4157,\n",
       " 'hurt': 3602,\n",
       " 'truth': 7106,\n",
       " 'tolerat': 6997,\n",
       " 'bcs': 1275,\n",
       " 'someone': 6335,\n",
       " 'comfort': 1928,\n",
       " 'lie': 4132,\n",
       " 'gud': 3297,\n",
       " 'ni8': 4806,\n",
       " 'sweet': 6694,\n",
       " 'dreams': 2466,\n",
       " 'stand': 6474,\n",
       " 'bus': 1586,\n",
       " 'intrepid': 3755,\n",
       " 'duo': 2508,\n",
       " 'great': 3264,\n",
       " 'both': 1458,\n",
       " 'special': 6400,\n",
       " 'cinema': 1831,\n",
       " 'pass': 5138,\n",
       " '09061209465': 183,\n",
       " 'suprman': 6666,\n",
       " 'matrix3': 4425,\n",
       " 'starwars3': 6490,\n",
       " 'etc': 2670,\n",
       " 'bx420': 1605,\n",
       " 'ip4': 3770,\n",
       " '5we': 569,\n",
       " '150pm': 299,\n",
       " 'ore': 5024,\n",
       " 'mo': 4571,\n",
       " 'owo': 5078,\n",
       " 'wa': 7392,\n",
       " 'wish': 7588,\n",
       " 'moments': 4597,\n",
       " 'fro': 3046,\n",
       " 'wherever': 7535,\n",
       " 'reminder': 5734,\n",
       " 'o2': 4909,\n",
       " 'details': 2295,\n",
       " 'offers': 4939,\n",
       " 'pls': 5298,\n",
       " 'valid': 7293,\n",
       " 'postcode': 5376,\n",
       " 'wana': 7424,\n",
       " 'aight': 883,\n",
       " 'derek': 2281,\n",
       " 'done': 2428,\n",
       " 'class': 1844,\n",
       " 'thanx': 6850,\n",
       " 'anything': 1007,\n",
       " 'coming': 1930,\n",
       " 'either': 2571,\n",
       " 'yrs': 7771,\n",
       " 'supply': 6660,\n",
       " 'cds': 1715,\n",
       " 'virgin': 7349,\n",
       " 'records': 5681,\n",
       " 'mystery': 4711,\n",
       " 'gift': 3159,\n",
       " '09061104283': 182,\n",
       " 'ts': 7110,\n",
       " 'smsco': 6303,\n",
       " 'net': 4786,\n",
       " '50pm': 547,\n",
       " '3mins': 466,\n",
       " 'intro': 3756,\n",
       " 'pilates': 5253,\n",
       " 'kickboxing': 3968,\n",
       " 'cool': 2021,\n",
       " 'inches': 3688,\n",
       " 'eating': 2539,\n",
       " 'esplanade': 2665,\n",
       " '8th': 721,\n",
       " 'hear': 3416,\n",
       " 'holiday': 3511,\n",
       " 'monday': 4600,\n",
       " 'feeling': 2827,\n",
       " 'dentists': 2271,\n",
       " 'refused': 5701,\n",
       " 'loan': 4201,\n",
       " 'secured': 6023,\n",
       " 'unsecured': 7225,\n",
       " '0800': 44,\n",
       " '195': 319,\n",
       " '6669': 588,\n",
       " 'turn': 7128,\n",
       " 'heater': 3424,\n",
       " 'set': 6075,\n",
       " 'degrees': 2250,\n",
       " 'tease': 6786,\n",
       " 'cry': 2112,\n",
       " 'end': 2605,\n",
       " 'die': 2326,\n",
       " 'grave': 3258,\n",
       " 'bslvyl': 1553,\n",
       " 'hmm': 3495,\n",
       " 'unfortunately': 7205,\n",
       " 'obviously': 4918,\n",
       " 'arent': 1059,\n",
       " 'cakes': 1616,\n",
       " 'kinda': 3982,\n",
       " 'fun': 3070,\n",
       " 'tho': 6901,\n",
       " 'site': 6227,\n",
       " 'simulate': 6210,\n",
       " 'gives': 3174,\n",
       " 'questions': 5574,\n",
       " 'readiness': 5640,\n",
       " 'customer': 2151,\n",
       " 'cal': 1617,\n",
       " 'boy': 1484,\n",
       " 'words': 7640,\n",
       " 'sighs': 6191,\n",
       " 'goes': 3195,\n",
       " 'studying': 6577,\n",
       " 'library': 4128,\n",
       " 'eve': 2679,\n",
       " 'late': 4063,\n",
       " 'iam': 3615,\n",
       " 'showers': 6167,\n",
       " 'possessiveness': 5370,\n",
       " 'poured': 5387,\n",
       " 'loved': 4264,\n",
       " 'ones': 4980,\n",
       " 'bcoz': 1274,\n",
       " 'lies': 4133,\n",
       " 'golden': 3202,\n",
       " 'truly': 7102,\n",
       " 'remember': 5729,\n",
       " 'those': 6902,\n",
       " 'satanic': 5948,\n",
       " 'imposter': 3677,\n",
       " 'price': 5446,\n",
       " 'may': 4435,\n",
       " 'destiny': 2292,\n",
       " 'pray': 5408,\n",
       " 'ten': 6808,\n",
       " 'owe': 5072,\n",
       " 'thkin': 6897,\n",
       " ...}"
      ]
     },
     "execution_count": 40,
     "metadata": {},
     "output_type": "execute_result"
    }
   ],
   "source": [
    "v.vocabulary_"
   ]
  },
  {
   "cell_type": "code",
   "execution_count": 41,
   "id": "b49170cb-8454-4061-a138-46a653584fbf",
   "metadata": {},
   "outputs": [
    {
     "data": {
      "text/plain": [
       "array([0, 0, 0, ..., 0, 0, 0], dtype=int64)"
      ]
     },
     "execution_count": 41,
     "metadata": {},
     "output_type": "execute_result"
    }
   ],
   "source": [
    "X_train_np = X_train_cv.toarray()\n",
    "X_train_np[0]"
   ]
  },
  {
   "cell_type": "code",
   "execution_count": 42,
   "id": "4bc0d593-5b76-4e6d-a883-a87c1ef4e401",
   "metadata": {},
   "outputs": [
    {
     "data": {
      "text/plain": [
       "(array([ 382,  763, 1670, 2305, 3531, 3563, 4263, 4543, 4956, 6700, 6732,\n",
       "        7040, 7249], dtype=int64),)"
      ]
     },
     "execution_count": 42,
     "metadata": {},
     "output_type": "execute_result"
    }
   ],
   "source": [
    "np.where(X_train_np[0]!=0)"
   ]
  },
  {
   "cell_type": "code",
   "execution_count": 43,
   "id": "aaef98bf-efde-48a7-8b95-f897f7e06608",
   "metadata": {},
   "outputs": [
    {
     "data": {
      "text/plain": [
       "4181    swhrt how u dey,hope ur ok, tot about u 2day.l...\n",
       "394     Yes i think so. I am in office but my lap is i...\n",
       "2193    Congrats ! Treat pending.i am not on mail for ...\n",
       "1188    There's no point hangin on to mr not right if ...\n",
       "Name: Message, dtype: object"
      ]
     },
     "execution_count": 43,
     "metadata": {},
     "output_type": "execute_result"
    }
   ],
   "source": [
    "X_train[:4]\n"
   ]
  },
  {
   "cell_type": "code",
   "execution_count": 46,
   "id": "1f5ec5ec-bc51-4c18-8545-d2406be92f13",
   "metadata": {},
   "outputs": [
    {
     "data": {
      "text/plain": [
       "0"
      ]
     },
     "execution_count": 46,
     "metadata": {},
     "output_type": "execute_result"
    }
   ],
   "source": [
    "X_train_np[0][1771]"
   ]
  },
  {
   "cell_type": "markdown",
   "id": "cbe64fc8-284e-4174-9919-2a0fe062045e",
   "metadata": {},
   "source": [
    "Train the naive bayes model\n"
   ]
  },
  {
   "cell_type": "code",
   "execution_count": 47,
   "id": "04b13cbd-366c-4a2c-9c5e-c07756b73400",
   "metadata": {},
   "outputs": [
    {
     "data": {
      "text/html": [
       "<style>#sk-container-id-1 {color: black;background-color: white;}#sk-container-id-1 pre{padding: 0;}#sk-container-id-1 div.sk-toggleable {background-color: white;}#sk-container-id-1 label.sk-toggleable__label {cursor: pointer;display: block;width: 100%;margin-bottom: 0;padding: 0.3em;box-sizing: border-box;text-align: center;}#sk-container-id-1 label.sk-toggleable__label-arrow:before {content: \"▸\";float: left;margin-right: 0.25em;color: #696969;}#sk-container-id-1 label.sk-toggleable__label-arrow:hover:before {color: black;}#sk-container-id-1 div.sk-estimator:hover label.sk-toggleable__label-arrow:before {color: black;}#sk-container-id-1 div.sk-toggleable__content {max-height: 0;max-width: 0;overflow: hidden;text-align: left;background-color: #f0f8ff;}#sk-container-id-1 div.sk-toggleable__content pre {margin: 0.2em;color: black;border-radius: 0.25em;background-color: #f0f8ff;}#sk-container-id-1 input.sk-toggleable__control:checked~div.sk-toggleable__content {max-height: 200px;max-width: 100%;overflow: auto;}#sk-container-id-1 input.sk-toggleable__control:checked~label.sk-toggleable__label-arrow:before {content: \"▾\";}#sk-container-id-1 div.sk-estimator input.sk-toggleable__control:checked~label.sk-toggleable__label {background-color: #d4ebff;}#sk-container-id-1 div.sk-label input.sk-toggleable__control:checked~label.sk-toggleable__label {background-color: #d4ebff;}#sk-container-id-1 input.sk-hidden--visually {border: 0;clip: rect(1px 1px 1px 1px);clip: rect(1px, 1px, 1px, 1px);height: 1px;margin: -1px;overflow: hidden;padding: 0;position: absolute;width: 1px;}#sk-container-id-1 div.sk-estimator {font-family: monospace;background-color: #f0f8ff;border: 1px dotted black;border-radius: 0.25em;box-sizing: border-box;margin-bottom: 0.5em;}#sk-container-id-1 div.sk-estimator:hover {background-color: #d4ebff;}#sk-container-id-1 div.sk-parallel-item::after {content: \"\";width: 100%;border-bottom: 1px solid gray;flex-grow: 1;}#sk-container-id-1 div.sk-label:hover label.sk-toggleable__label {background-color: #d4ebff;}#sk-container-id-1 div.sk-serial::before {content: \"\";position: absolute;border-left: 1px solid gray;box-sizing: border-box;top: 0;bottom: 0;left: 50%;z-index: 0;}#sk-container-id-1 div.sk-serial {display: flex;flex-direction: column;align-items: center;background-color: white;padding-right: 0.2em;padding-left: 0.2em;position: relative;}#sk-container-id-1 div.sk-item {position: relative;z-index: 1;}#sk-container-id-1 div.sk-parallel {display: flex;align-items: stretch;justify-content: center;background-color: white;position: relative;}#sk-container-id-1 div.sk-item::before, #sk-container-id-1 div.sk-parallel-item::before {content: \"\";position: absolute;border-left: 1px solid gray;box-sizing: border-box;top: 0;bottom: 0;left: 50%;z-index: -1;}#sk-container-id-1 div.sk-parallel-item {display: flex;flex-direction: column;z-index: 1;position: relative;background-color: white;}#sk-container-id-1 div.sk-parallel-item:first-child::after {align-self: flex-end;width: 50%;}#sk-container-id-1 div.sk-parallel-item:last-child::after {align-self: flex-start;width: 50%;}#sk-container-id-1 div.sk-parallel-item:only-child::after {width: 0;}#sk-container-id-1 div.sk-dashed-wrapped {border: 1px dashed gray;margin: 0 0.4em 0.5em 0.4em;box-sizing: border-box;padding-bottom: 0.4em;background-color: white;}#sk-container-id-1 div.sk-label label {font-family: monospace;font-weight: bold;display: inline-block;line-height: 1.2em;}#sk-container-id-1 div.sk-label-container {text-align: center;}#sk-container-id-1 div.sk-container {/* jupyter's `normalize.less` sets `[hidden] { display: none; }` but bootstrap.min.css set `[hidden] { display: none !important; }` so we also need the `!important` here to be able to override the default hidden behavior on the sphinx rendered scikit-learn.org. See: https://github.com/scikit-learn/scikit-learn/issues/21755 */display: inline-block !important;position: relative;}#sk-container-id-1 div.sk-text-repr-fallback {display: none;}</style><div id=\"sk-container-id-1\" class=\"sk-top-container\"><div class=\"sk-text-repr-fallback\"><pre>MultinomialNB()</pre><b>In a Jupyter environment, please rerun this cell to show the HTML representation or trust the notebook. <br />On GitHub, the HTML representation is unable to render, please try loading this page with nbviewer.org.</b></div><div class=\"sk-container\" hidden><div class=\"sk-item\"><div class=\"sk-estimator sk-toggleable\"><input class=\"sk-toggleable__control sk-hidden--visually\" id=\"sk-estimator-id-1\" type=\"checkbox\" checked><label for=\"sk-estimator-id-1\" class=\"sk-toggleable__label sk-toggleable__label-arrow\">MultinomialNB</label><div class=\"sk-toggleable__content\"><pre>MultinomialNB()</pre></div></div></div></div></div>"
      ],
      "text/plain": [
       "MultinomialNB()"
      ]
     },
     "execution_count": 47,
     "metadata": {},
     "output_type": "execute_result"
    }
   ],
   "source": [
    "from sklearn.naive_bayes import MultinomialNB\n",
    "\n",
    "model = MultinomialNB()\n",
    "model.fit(X_train_cv, y_train)"
   ]
  },
  {
   "cell_type": "code",
   "execution_count": 48,
   "id": "bb14ef54-4148-43ec-9fe0-9e31967d996b",
   "metadata": {},
   "outputs": [],
   "source": [
    "X_test_cv = v.transform(X_test)\n"
   ]
  },
  {
   "cell_type": "markdown",
   "id": "21ac0d37-f739-4735-bf2c-bd1675485fd3",
   "metadata": {},
   "source": [
    "Evaluate Performance\n"
   ]
  },
  {
   "cell_type": "code",
   "execution_count": 49,
   "id": "d994ded2-3b0b-40b5-a8ae-f87a354392ad",
   "metadata": {},
   "outputs": [
    {
     "name": "stdout",
     "output_type": "stream",
     "text": [
      "              precision    recall  f1-score   support\n",
      "\n",
      "           0       0.99      0.99      0.99       967\n",
      "           1       0.96      0.92      0.94       148\n",
      "\n",
      "    accuracy                           0.98      1115\n",
      "   macro avg       0.98      0.96      0.97      1115\n",
      "weighted avg       0.98      0.98      0.98      1115\n",
      "\n"
     ]
    }
   ],
   "source": [
    "from sklearn.metrics import classification_report\n",
    "\n",
    "y_pred = model.predict(X_test_cv)\n",
    "\n",
    "print(classification_report(y_test, y_pred))"
   ]
  },
  {
   "cell_type": "code",
   "execution_count": 50,
   "id": "1fc935c5-7dcf-438e-a057-0ddd18ef4739",
   "metadata": {},
   "outputs": [
    {
     "data": {
      "text/plain": [
       "array([0, 1], dtype=int64)"
      ]
     },
     "execution_count": 50,
     "metadata": {},
     "output_type": "execute_result"
    }
   ],
   "source": [
    "emails = [\n",
    "    'Hey mohan, can we get together to watch footbal game tomorrow?',\n",
    "    'Upto 20% discount on parking, exclusive offer just for you. Dont miss this reward!'\n",
    "]\n",
    "\n",
    "emails_count = v.transform(emails)\n",
    "model.predict(emails_count)"
   ]
  },
  {
   "cell_type": "markdown",
   "id": "a5b480d6-560e-4666-bc54-f868e0ac396c",
   "metadata": {},
   "source": [
    "Train the model using sklearn pipeline and reduce number of lines of code"
   ]
  },
  {
   "cell_type": "code",
   "execution_count": 52,
   "id": "097622d9-0808-4ed8-a552-07aa977fee1d",
   "metadata": {},
   "outputs": [],
   "source": [
    "from sklearn.pipeline import Pipeline\n",
    "clf = Pipeline([\n",
    "    ('vectorizer', CountVectorizer()),\n",
    "    ('nb', MultinomialNB())\n",
    "])"
   ]
  },
  {
   "cell_type": "code",
   "execution_count": 53,
   "id": "a5ba494d-ef02-467c-9049-2cccb83566a5",
   "metadata": {},
   "outputs": [
    {
     "data": {
      "text/html": [
       "<style>#sk-container-id-2 {color: black;background-color: white;}#sk-container-id-2 pre{padding: 0;}#sk-container-id-2 div.sk-toggleable {background-color: white;}#sk-container-id-2 label.sk-toggleable__label {cursor: pointer;display: block;width: 100%;margin-bottom: 0;padding: 0.3em;box-sizing: border-box;text-align: center;}#sk-container-id-2 label.sk-toggleable__label-arrow:before {content: \"▸\";float: left;margin-right: 0.25em;color: #696969;}#sk-container-id-2 label.sk-toggleable__label-arrow:hover:before {color: black;}#sk-container-id-2 div.sk-estimator:hover label.sk-toggleable__label-arrow:before {color: black;}#sk-container-id-2 div.sk-toggleable__content {max-height: 0;max-width: 0;overflow: hidden;text-align: left;background-color: #f0f8ff;}#sk-container-id-2 div.sk-toggleable__content pre {margin: 0.2em;color: black;border-radius: 0.25em;background-color: #f0f8ff;}#sk-container-id-2 input.sk-toggleable__control:checked~div.sk-toggleable__content {max-height: 200px;max-width: 100%;overflow: auto;}#sk-container-id-2 input.sk-toggleable__control:checked~label.sk-toggleable__label-arrow:before {content: \"▾\";}#sk-container-id-2 div.sk-estimator input.sk-toggleable__control:checked~label.sk-toggleable__label {background-color: #d4ebff;}#sk-container-id-2 div.sk-label input.sk-toggleable__control:checked~label.sk-toggleable__label {background-color: #d4ebff;}#sk-container-id-2 input.sk-hidden--visually {border: 0;clip: rect(1px 1px 1px 1px);clip: rect(1px, 1px, 1px, 1px);height: 1px;margin: -1px;overflow: hidden;padding: 0;position: absolute;width: 1px;}#sk-container-id-2 div.sk-estimator {font-family: monospace;background-color: #f0f8ff;border: 1px dotted black;border-radius: 0.25em;box-sizing: border-box;margin-bottom: 0.5em;}#sk-container-id-2 div.sk-estimator:hover {background-color: #d4ebff;}#sk-container-id-2 div.sk-parallel-item::after {content: \"\";width: 100%;border-bottom: 1px solid gray;flex-grow: 1;}#sk-container-id-2 div.sk-label:hover label.sk-toggleable__label {background-color: #d4ebff;}#sk-container-id-2 div.sk-serial::before {content: \"\";position: absolute;border-left: 1px solid gray;box-sizing: border-box;top: 0;bottom: 0;left: 50%;z-index: 0;}#sk-container-id-2 div.sk-serial {display: flex;flex-direction: column;align-items: center;background-color: white;padding-right: 0.2em;padding-left: 0.2em;position: relative;}#sk-container-id-2 div.sk-item {position: relative;z-index: 1;}#sk-container-id-2 div.sk-parallel {display: flex;align-items: stretch;justify-content: center;background-color: white;position: relative;}#sk-container-id-2 div.sk-item::before, #sk-container-id-2 div.sk-parallel-item::before {content: \"\";position: absolute;border-left: 1px solid gray;box-sizing: border-box;top: 0;bottom: 0;left: 50%;z-index: -1;}#sk-container-id-2 div.sk-parallel-item {display: flex;flex-direction: column;z-index: 1;position: relative;background-color: white;}#sk-container-id-2 div.sk-parallel-item:first-child::after {align-self: flex-end;width: 50%;}#sk-container-id-2 div.sk-parallel-item:last-child::after {align-self: flex-start;width: 50%;}#sk-container-id-2 div.sk-parallel-item:only-child::after {width: 0;}#sk-container-id-2 div.sk-dashed-wrapped {border: 1px dashed gray;margin: 0 0.4em 0.5em 0.4em;box-sizing: border-box;padding-bottom: 0.4em;background-color: white;}#sk-container-id-2 div.sk-label label {font-family: monospace;font-weight: bold;display: inline-block;line-height: 1.2em;}#sk-container-id-2 div.sk-label-container {text-align: center;}#sk-container-id-2 div.sk-container {/* jupyter's `normalize.less` sets `[hidden] { display: none; }` but bootstrap.min.css set `[hidden] { display: none !important; }` so we also need the `!important` here to be able to override the default hidden behavior on the sphinx rendered scikit-learn.org. See: https://github.com/scikit-learn/scikit-learn/issues/21755 */display: inline-block !important;position: relative;}#sk-container-id-2 div.sk-text-repr-fallback {display: none;}</style><div id=\"sk-container-id-2\" class=\"sk-top-container\"><div class=\"sk-text-repr-fallback\"><pre>Pipeline(steps=[(&#x27;vectorizer&#x27;, CountVectorizer()), (&#x27;nb&#x27;, MultinomialNB())])</pre><b>In a Jupyter environment, please rerun this cell to show the HTML representation or trust the notebook. <br />On GitHub, the HTML representation is unable to render, please try loading this page with nbviewer.org.</b></div><div class=\"sk-container\" hidden><div class=\"sk-item sk-dashed-wrapped\"><div class=\"sk-label-container\"><div class=\"sk-label sk-toggleable\"><input class=\"sk-toggleable__control sk-hidden--visually\" id=\"sk-estimator-id-2\" type=\"checkbox\" ><label for=\"sk-estimator-id-2\" class=\"sk-toggleable__label sk-toggleable__label-arrow\">Pipeline</label><div class=\"sk-toggleable__content\"><pre>Pipeline(steps=[(&#x27;vectorizer&#x27;, CountVectorizer()), (&#x27;nb&#x27;, MultinomialNB())])</pre></div></div></div><div class=\"sk-serial\"><div class=\"sk-item\"><div class=\"sk-estimator sk-toggleable\"><input class=\"sk-toggleable__control sk-hidden--visually\" id=\"sk-estimator-id-3\" type=\"checkbox\" ><label for=\"sk-estimator-id-3\" class=\"sk-toggleable__label sk-toggleable__label-arrow\">CountVectorizer</label><div class=\"sk-toggleable__content\"><pre>CountVectorizer()</pre></div></div></div><div class=\"sk-item\"><div class=\"sk-estimator sk-toggleable\"><input class=\"sk-toggleable__control sk-hidden--visually\" id=\"sk-estimator-id-4\" type=\"checkbox\" ><label for=\"sk-estimator-id-4\" class=\"sk-toggleable__label sk-toggleable__label-arrow\">MultinomialNB</label><div class=\"sk-toggleable__content\"><pre>MultinomialNB()</pre></div></div></div></div></div></div></div>"
      ],
      "text/plain": [
       "Pipeline(steps=[('vectorizer', CountVectorizer()), ('nb', MultinomialNB())])"
      ]
     },
     "execution_count": 53,
     "metadata": {},
     "output_type": "execute_result"
    }
   ],
   "source": [
    "clf.fit(X_train, y_train)"
   ]
  },
  {
   "cell_type": "code",
   "execution_count": 54,
   "id": "c95fe227-0458-4e58-9167-7c980ad94df5",
   "metadata": {},
   "outputs": [
    {
     "name": "stdout",
     "output_type": "stream",
     "text": [
      "              precision    recall  f1-score   support\n",
      "\n",
      "           0       0.99      0.99      0.99       967\n",
      "           1       0.96      0.92      0.94       148\n",
      "\n",
      "    accuracy                           0.98      1115\n",
      "   macro avg       0.98      0.96      0.97      1115\n",
      "weighted avg       0.98      0.98      0.98      1115\n",
      "\n"
     ]
    }
   ],
   "source": [
    "y_pred = clf.predict(X_test)\n",
    "\n",
    "print(classification_report(y_test, y_pred))"
   ]
  },
  {
   "cell_type": "code",
   "execution_count": 56,
   "id": "fddbf638-8493-42e3-b4ac-a3783d2a8fa2",
   "metadata": {},
   "outputs": [
    {
     "data": {
      "text/plain": [
       "array([0, 1], dtype=int64)"
      ]
     },
     "execution_count": 56,
     "metadata": {},
     "output_type": "execute_result"
    }
   ],
   "source": [
    "clf.predict(emails)"
   ]
  },
  {
   "cell_type": "code",
   "execution_count": null,
   "id": "9ca9d776-a6b8-4556-a97d-a2e95e1cce43",
   "metadata": {},
   "outputs": [],
   "source": []
  }
 ],
 "metadata": {
  "kernelspec": {
   "display_name": "Python 3 (ipykernel)",
   "language": "python",
   "name": "python3"
  },
  "language_info": {
   "codemirror_mode": {
    "name": "ipython",
    "version": 3
   },
   "file_extension": ".py",
   "mimetype": "text/x-python",
   "name": "python",
   "nbconvert_exporter": "python",
   "pygments_lexer": "ipython3",
   "version": "3.11.6"
  }
 },
 "nbformat": 4,
 "nbformat_minor": 5
}
