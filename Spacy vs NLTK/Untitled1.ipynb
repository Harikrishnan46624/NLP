{
 "cells": [
  {
   "cell_type": "markdown",
   "id": "b04d1ff6-0b7c-4c1d-bb20-7e913428d3e1",
   "metadata": {},
   "source": [
    "Data Cleaning"
   ]
  },
  {
   "cell_type": "code",
   "execution_count": 2,
   "id": "4ce92ca8-3316-432a-9e48-261b0ab1de5e",
   "metadata": {},
   "outputs": [],
   "source": [
    "import pandas as pd\n",
    "\n",
    "text = ['This is the NLP TASKS ARTICLE written by Abhishek Jaiswal.',\n",
    "        'In this article, I will be explaining various data cleaning techniques.',\n",
    "        'So stay tuned for further updates.',\n",
    "        'Nah, I don\\'t think he goes to USF; he lives around.']\n",
    "\n",
    "df = pd.DataFrame({'text': text})"
   ]
  },
  {
   "cell_type": "code",
   "execution_count": 3,
   "id": "8015f77a-8042-4aa0-b609-e7e9fbced115",
   "metadata": {},
   "outputs": [
    {
     "data": {
      "text/html": [
       "<div>\n",
       "<style scoped>\n",
       "    .dataframe tbody tr th:only-of-type {\n",
       "        vertical-align: middle;\n",
       "    }\n",
       "\n",
       "    .dataframe tbody tr th {\n",
       "        vertical-align: top;\n",
       "    }\n",
       "\n",
       "    .dataframe thead th {\n",
       "        text-align: right;\n",
       "    }\n",
       "</style>\n",
       "<table border=\"1\" class=\"dataframe\">\n",
       "  <thead>\n",
       "    <tr style=\"text-align: right;\">\n",
       "      <th></th>\n",
       "      <th>text</th>\n",
       "    </tr>\n",
       "  </thead>\n",
       "  <tbody>\n",
       "    <tr>\n",
       "      <th>0</th>\n",
       "      <td>This is the NLP TASKS ARTICLE written by Abhis...</td>\n",
       "    </tr>\n",
       "    <tr>\n",
       "      <th>1</th>\n",
       "      <td>In this article, I will be explaining various ...</td>\n",
       "    </tr>\n",
       "    <tr>\n",
       "      <th>2</th>\n",
       "      <td>So stay tuned for further updates.</td>\n",
       "    </tr>\n",
       "    <tr>\n",
       "      <th>3</th>\n",
       "      <td>Nah, I don't think he goes to USF; he lives ar...</td>\n",
       "    </tr>\n",
       "  </tbody>\n",
       "</table>\n",
       "</div>"
      ],
      "text/plain": [
       "                                                text\n",
       "0  This is the NLP TASKS ARTICLE written by Abhis...\n",
       "1  In this article, I will be explaining various ...\n",
       "2                 So stay tuned for further updates.\n",
       "3  Nah, I don't think he goes to USF; he lives ar..."
      ]
     },
     "execution_count": 3,
     "metadata": {},
     "output_type": "execute_result"
    }
   ],
   "source": [
    "df"
   ]
  },
  {
   "cell_type": "code",
   "execution_count": 6,
   "id": "9e68fbbe-46cf-4139-ad57-a52ce51e9a40",
   "metadata": {},
   "outputs": [],
   "source": [
    "# Lowercasing\n",
    "df['lower'] = df['text'].apply(lambda x: \" \".join(x.lower() for x in x.split()))"
   ]
  },
  {
   "cell_type": "code",
   "execution_count": 7,
   "id": "158ed14b-7e13-4232-843f-9429c9880f31",
   "metadata": {},
   "outputs": [
    {
     "data": {
      "text/html": [
       "<div>\n",
       "<style scoped>\n",
       "    .dataframe tbody tr th:only-of-type {\n",
       "        vertical-align: middle;\n",
       "    }\n",
       "\n",
       "    .dataframe tbody tr th {\n",
       "        vertical-align: top;\n",
       "    }\n",
       "\n",
       "    .dataframe thead th {\n",
       "        text-align: right;\n",
       "    }\n",
       "</style>\n",
       "<table border=\"1\" class=\"dataframe\">\n",
       "  <thead>\n",
       "    <tr style=\"text-align: right;\">\n",
       "      <th></th>\n",
       "      <th>text</th>\n",
       "      <th>lower</th>\n",
       "    </tr>\n",
       "  </thead>\n",
       "  <tbody>\n",
       "    <tr>\n",
       "      <th>0</th>\n",
       "      <td>This is the NLP TASKS ARTICLE written by Abhis...</td>\n",
       "      <td>this is the nlp tasks article written by abhis...</td>\n",
       "    </tr>\n",
       "    <tr>\n",
       "      <th>1</th>\n",
       "      <td>In this article, I will be explaining various ...</td>\n",
       "      <td>in this article, i will be explaining various ...</td>\n",
       "    </tr>\n",
       "    <tr>\n",
       "      <th>2</th>\n",
       "      <td>So stay tuned for further updates.</td>\n",
       "      <td>so stay tuned for further updates.</td>\n",
       "    </tr>\n",
       "    <tr>\n",
       "      <th>3</th>\n",
       "      <td>Nah, I don't think he goes to USF; he lives ar...</td>\n",
       "      <td>nah, i don't think he goes to usf; he lives ar...</td>\n",
       "    </tr>\n",
       "  </tbody>\n",
       "</table>\n",
       "</div>"
      ],
      "text/plain": [
       "                                                text  \\\n",
       "0  This is the NLP TASKS ARTICLE written by Abhis...   \n",
       "1  In this article, I will be explaining various ...   \n",
       "2                 So stay tuned for further updates.   \n",
       "3  Nah, I don't think he goes to USF; he lives ar...   \n",
       "\n",
       "                                               lower  \n",
       "0  this is the nlp tasks article written by abhis...  \n",
       "1  in this article, i will be explaining various ...  \n",
       "2                 so stay tuned for further updates.  \n",
       "3  nah, i don't think he goes to usf; he lives ar...  "
      ]
     },
     "execution_count": 7,
     "metadata": {},
     "output_type": "execute_result"
    }
   ],
   "source": [
    "df"
   ]
  },
  {
   "cell_type": "code",
   "execution_count": 8,
   "id": "248f1268-7d2d-4e06-9518-7c1fa5a57e3d",
   "metadata": {},
   "outputs": [
    {
     "data": {
      "text/plain": [
       "'!\"#$%&\\'()*+,-./:;<=>?@[\\\\]^_`{|}~'"
      ]
     },
     "execution_count": 8,
     "metadata": {},
     "output_type": "execute_result"
    }
   ],
   "source": [
    "# Punctuation Removal\n",
    "import string\n",
    "string.punctuation"
   ]
  },
  {
   "cell_type": "code",
   "execution_count": 9,
   "id": "9edfb58e-69de-4435-af39-b74d802538a2",
   "metadata": {},
   "outputs": [
    {
     "data": {
      "text/plain": [
       "0    This is the NLP TASKS ARTICLE written by Abhis...\n",
       "1    In this article I will be explaining various d...\n",
       "2                    So stay tuned for further updates\n",
       "3      Nah I dont think he goes to USF he lives around\n",
       "Name: text, dtype: object"
      ]
     },
     "execution_count": 9,
     "metadata": {},
     "output_type": "execute_result"
    }
   ],
   "source": [
    "df.text.apply(lambda x: \"\".join(i for i in x if i not in string.punctuation))"
   ]
  },
  {
   "cell_type": "code",
   "execution_count": 11,
   "id": "faae6c51-5aad-471d-8e34-8890222941ad",
   "metadata": {},
   "outputs": [
    {
     "data": {
      "text/plain": [
       "0    This is the NLP TASKS ARTICLE written by Abhis...\n",
       "1    In this article I will be explaining various d...\n",
       "2                    So stay tuned for further updates\n",
       "3      Nah I dont think he goes to USF he lives around\n",
       "Name: text, dtype: object"
      ]
     },
     "execution_count": 11,
     "metadata": {},
     "output_type": "execute_result"
    }
   ],
   "source": [
    "# Removing punctuation using regular expressions:\n",
    "import re\n",
    "df.text.apply(lambda x: \"\".join(re.findall(r'[a-zA-Z+\" \"]', x)))"
   ]
  },
  {
   "cell_type": "code",
   "execution_count": 12,
   "id": "2d916714-945b-42b5-8875-d84df6218b00",
   "metadata": {},
   "outputs": [
    {
     "data": {
      "text/plain": [
       "0          nlp tasks article written abhishek jaiswal.\n",
       "1    article, explaining various data cleaning tech...\n",
       "2                                  stay tuned updates.\n",
       "3                   nah, think goes usf; lives around.\n",
       "Name: lower, dtype: object"
      ]
     },
     "execution_count": 12,
     "metadata": {},
     "output_type": "execute_result"
    }
   ],
   "source": [
    "# Stop Words Removal\n",
    "import nltk\n",
    "from nltk.corpus import stopwords\n",
    "allstopwords = stopwords.words('english')\n",
    "df.lower.apply(lambda x: \" \".join(i for i in x.split() if i not in allstopwords))"
   ]
  },
  {
   "cell_type": "markdown",
   "id": "bf9295f0-22c3-4321-8dcf-56cb2a0fb64b",
   "metadata": {},
   "source": [
    "Spelling Correction\n"
   ]
  },
  {
   "cell_type": "code",
   "execution_count": 15,
   "id": "4dc5830d-e45a-4d46-a062-2d9f0cc0de40",
   "metadata": {},
   "outputs": [
    {
     "name": "stdout",
     "output_type": "stream",
     "text": [
      "Collecting textblob\n",
      "  Downloading textblob-0.17.1-py2.py3-none-any.whl (636 kB)\n",
      "     ---------------------------------------- 0.0/636.8 kB ? eta -:--:--\n",
      "      --------------------------------------- 10.2/636.8 kB ? eta -:--:--\n",
      "     --- --------------------------------- 61.4/636.8 kB 550.5 kB/s eta 0:00:02\n",
      "     --------------- ---------------------- 256.0/636.8 kB 1.8 MB/s eta 0:00:01\n",
      "     -------------------------------------- 636.8/636.8 kB 3.4 MB/s eta 0:00:00\n",
      "Requirement already satisfied: nltk>=3.1 in c:\\users\\harik\\appdata\\local\\packages\\pythonsoftwarefoundation.python.3.11_qbz5n2kfra8p0\\localcache\\local-packages\\python311\\site-packages (from textblob) (3.8.1)\n",
      "Requirement already satisfied: click in c:\\users\\harik\\appdata\\local\\packages\\pythonsoftwarefoundation.python.3.11_qbz5n2kfra8p0\\localcache\\local-packages\\python311\\site-packages (from nltk>=3.1->textblob) (8.1.4)\n",
      "Requirement already satisfied: joblib in c:\\users\\harik\\appdata\\local\\packages\\pythonsoftwarefoundation.python.3.11_qbz5n2kfra8p0\\localcache\\local-packages\\python311\\site-packages (from nltk>=3.1->textblob) (1.2.0)\n",
      "Requirement already satisfied: regex>=2021.8.3 in c:\\users\\harik\\appdata\\local\\packages\\pythonsoftwarefoundation.python.3.11_qbz5n2kfra8p0\\localcache\\local-packages\\python311\\site-packages (from nltk>=3.1->textblob) (2023.10.3)\n",
      "Requirement already satisfied: tqdm in c:\\users\\harik\\appdata\\local\\packages\\pythonsoftwarefoundation.python.3.11_qbz5n2kfra8p0\\localcache\\local-packages\\python311\\site-packages (from nltk>=3.1->textblob) (4.66.0)\n",
      "Requirement already satisfied: colorama in c:\\users\\harik\\appdata\\local\\packages\\pythonsoftwarefoundation.python.3.11_qbz5n2kfra8p0\\localcache\\local-packages\\python311\\site-packages (from click->nltk>=3.1->textblob) (0.4.6)\n",
      "Installing collected packages: textblob\n",
      "Successfully installed textblob-0.17.1\n",
      "Note: you may need to restart the kernel to use updated packages.\n"
     ]
    }
   ],
   "source": [
    "pip install textblob"
   ]
  },
  {
   "cell_type": "code",
   "execution_count": 16,
   "id": "c1e2b822-af5e-45a5-9213-51d1e886cdad",
   "metadata": {},
   "outputs": [],
   "source": [
    "from textblob import TextBlob"
   ]
  },
  {
   "cell_type": "code",
   "execution_count": 17,
   "id": "935466c2-1fbf-4ac9-bec8-e7a689e55d56",
   "metadata": {},
   "outputs": [
    {
     "data": {
      "text/plain": [
       "0    this is the nap tasks article written by abhis...\n",
       "1    in this article, i will be explaining various ...\n",
       "2                   so stay tuned for further updated.\n",
       "3    ah, i don't think he goes to us; he lives around.\n",
       "Name: lower, dtype: object"
      ]
     },
     "execution_count": 17,
     "metadata": {},
     "output_type": "execute_result"
    }
   ],
   "source": [
    "df['lower'].apply(lambda x: str(TextBlob(x).correct()))"
   ]
  },
  {
   "cell_type": "markdown",
   "id": "c10bc524-ddde-46da-9fe8-cd8fac7f5378",
   "metadata": {},
   "source": [
    "Tokenization\n"
   ]
  },
  {
   "cell_type": "code",
   "execution_count": 18,
   "id": "f81db27c-e843-4a95-b0c8-088a6ee40484",
   "metadata": {},
   "outputs": [
    {
     "data": {
      "text/plain": [
       "['My', 'favorite', 'animal', 'is', 'cat']"
      ]
     },
     "execution_count": 18,
     "metadata": {},
     "output_type": "execute_result"
    }
   ],
   "source": [
    "import nltk\n",
    "mystring = \"My favorite animal is cat\" \n",
    "nltk.word_tokenize(mystring)\n",
    "mystring.split(\" \")"
   ]
  },
  {
   "cell_type": "markdown",
   "id": "f9431732-217b-43a0-a9b7-75e20bfb5b6d",
   "metadata": {},
   "source": [
    "Stemming"
   ]
  },
  {
   "cell_type": "code",
   "execution_count": 19,
   "id": "7ec9c629-891b-4431-9ff3-58c21250aa85",
   "metadata": {},
   "outputs": [
    {
     "data": {
      "text/plain": [
       "0    thi is the nlp task articl written by abhishek...\n",
       "1    in thi article, i will be explain variou data ...\n",
       "2                    so stay tune for further updates.\n",
       "3    nah, i don't think he goe to usf; he live around.\n",
       "Name: text, dtype: object"
      ]
     },
     "execution_count": 19,
     "metadata": {},
     "output_type": "execute_result"
    }
   ],
   "source": [
    "from nltk.stem import PorterStemmer\n",
    "st = PorterStemmer()\n",
    "df['text'].apply(lambda x:\" \".join([st.stem(word) for word in x.split()]))"
   ]
  },
  {
   "cell_type": "markdown",
   "id": "cea820c3-8015-49a7-8694-a6610b02efaa",
   "metadata": {},
   "source": [
    "Lemmatization\n"
   ]
  },
  {
   "cell_type": "code",
   "execution_count": 22,
   "id": "903db546-ae15-48d6-98b5-fe11d256fdb4",
   "metadata": {},
   "outputs": [
    {
     "name": "stderr",
     "output_type": "stream",
     "text": [
      "[nltk_data] Downloading package wordnet to\n",
      "[nltk_data]     C:\\Users\\harik\\AppData\\Roaming\\nltk_data...\n"
     ]
    },
    {
     "data": {
      "text/plain": [
       "0    This is the NLP TASKS ARTICLE written by Abhis...\n",
       "1    In this article, I will be explaining various ...\n",
       "2                   So stay tuned for further updates.\n",
       "3     Nah, I don't think he go to USF; he life around.\n",
       "Name: text, dtype: object"
      ]
     },
     "execution_count": 22,
     "metadata": {},
     "output_type": "execute_result"
    }
   ],
   "source": [
    "from textblob import Word\n",
    "nltk.download('wordnet')\n",
    "df['text'].apply(lambda x:\" \".join(Word(word).lemmatize() for word in x.split()))"
   ]
  },
  {
   "cell_type": "code",
   "execution_count": null,
   "id": "4acee16c-45a0-4406-85b6-8b098d34ad86",
   "metadata": {},
   "outputs": [],
   "source": []
  }
 ],
 "metadata": {
  "kernelspec": {
   "display_name": "Python 3 (ipykernel)",
   "language": "python",
   "name": "python3"
  },
  "language_info": {
   "codemirror_mode": {
    "name": "ipython",
    "version": 3
   },
   "file_extension": ".py",
   "mimetype": "text/x-python",
   "name": "python",
   "nbconvert_exporter": "python",
   "pygments_lexer": "ipython3",
   "version": "3.11.6"
  }
 },
 "nbformat": 4,
 "nbformat_minor": 5
}
